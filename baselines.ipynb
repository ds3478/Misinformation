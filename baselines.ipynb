{
 "cells": [
  {
   "cell_type": "markdown",
   "id": "523f922e-1649-41f1-a758-95e6219d5da2",
   "metadata": {},
   "source": [
    "# Limiting Spread of COVID Misinformation via Twitter\n",
    "### Author: Donald Stephens (dsteph@stanford.edu)\n",
    "### Date: Q2-2022"
   ]
  },
  {
   "cell_type": "markdown",
   "id": "55902542-7c18-4beb-9e74-e9058e08c29d",
   "metadata": {},
   "source": [
    "<hr/>"
   ]
  },
  {
   "cell_type": "markdown",
   "id": "6a6d0931-cd2e-40f3-8049-455504aaf9c5",
   "metadata": {},
   "source": [
    "### Packages and Installation"
   ]
  },
  {
   "cell_type": "code",
   "execution_count": 1,
   "id": "197639bb-4c67-4fd9-bec8-9c5731bc8ced",
   "metadata": {},
   "outputs": [],
   "source": [
    "# pip install -U skorch"
   ]
  },
  {
   "cell_type": "markdown",
   "id": "a479ec6b-0917-4ed6-8da0-f13df323b139",
   "metadata": {},
   "source": [
    "<hr/>"
   ]
  },
  {
   "cell_type": "markdown",
   "id": "eac88411-fed7-41d9-9e19-1993466daef5",
   "metadata": {},
   "source": [
    "### References and dependencies"
   ]
  },
  {
   "cell_type": "code",
   "execution_count": 141,
   "id": "951de5d8-5426-4652-abd2-e1008a59e06e",
   "metadata": {},
   "outputs": [],
   "source": [
    "import os\n",
    "import pandas as pd\n",
    "import numpy as np\n",
    "from enum import Enum, unique\n",
    "\n",
    "from data_utils import *\n",
    "from models.LogisticRegression.log_reg_model import *\n",
    "from models.XGBoost.xgboost_model import *\n",
    "from models.RandomForest.random_forest_model import *\n",
    "from models.CNN.cnn_model import *\n",
    "from models.BiLSTM.bi_lstm_rnn_model import *\n",
    "from models.BERT.bert_model import *\n",
    "from models.RoBERTa.rob_bert_model import *\n",
    "\n",
    "import pickle\n",
    "\n",
    "from sklearn.model_selection import train_test_split\n",
    "from sklearn.model_selection import StratifiedKFold\n",
    "\n",
    "from sklearn.metrics import plot_confusion_matrix\n",
    "from sklearn.metrics import plot_roc_curve\n",
    "from sklearn.metrics import precision_recall_fscore_support\n",
    "from sklearn.metrics import accuracy_score\n",
    "\n",
    "import warnings\n",
    "from sklearn.exceptions import ConvergenceWarning\n",
    "#from sklearn.exceptions import FutureWarning\n",
    "#from sklearn.exceptions import UserWarning\n",
    "warnings.filterwarnings(action='ignore', category=ConvergenceWarning)\n",
    "warnings.filterwarnings(action='ignore', category=FutureWarning)\n",
    "warnings.filterwarnings(action='ignore', category=UserWarning)\n",
    "\n",
    "# allow charts inline in Jupyter Notebook\n",
    "%matplotlib inline\n",
    "import matplotlib.pyplot as plt # support graphing\n",
    "\n",
    "import matplotlib.cbook\n",
    "warnings.filterwarnings(\"ignore\", category=matplotlib.cbook.mplDeprecation)\n",
    "\n",
    "# Usage: clear_output(wait=True)\n",
    "from IPython.display import clear_output # clear output contents programmatically"
   ]
  },
  {
   "cell_type": "code",
   "execution_count": 3,
   "id": "bdd41d8e-8fc4-48cd-be80-698d45fb82d3",
   "metadata": {},
   "outputs": [],
   "source": [
    "# Automatically reload modules that have changed\n",
    "#  e.g., reload \"data_utils.py\" if file was edited\n",
    "#  If loaded module contains classes, any instantiations of\n",
    "#  the class in code would have to be recreated (as they may\n",
    "#  still be storing instructions from implementation before\n",
    "#  reloading)\n",
    "%load_ext autoreload\n",
    "%autoreload 2"
   ]
  },
  {
   "cell_type": "markdown",
   "id": "39334086-fc77-4686-87cd-3fb5b2d29b86",
   "metadata": {},
   "source": [
    "<hr/>"
   ]
  },
  {
   "cell_type": "markdown",
   "id": "e2cfbb53-919f-4453-a934-bab69b9a4fe9",
   "metadata": {},
   "source": [
    "### Global Variables"
   ]
  },
  {
   "cell_type": "code",
   "execution_count": 4,
   "id": "8a4c649f-032b-4fe5-b3e8-9825dbd476c6",
   "metadata": {},
   "outputs": [],
   "source": [
    "preprocessor = DataPreprocess()"
   ]
  },
  {
   "cell_type": "code",
   "execution_count": 5,
   "id": "f532ca93-c0ae-49de-9e1f-9300ea04c66c",
   "metadata": {},
   "outputs": [],
   "source": [
    "# re-run data preprocess when changing the maximum sequence length cap\n",
    "max_sequence_length = 50"
   ]
  },
  {
   "cell_type": "code",
   "execution_count": 6,
   "id": "8cab3843-ce55-4120-9244-8c7acc48719c",
   "metadata": {},
   "outputs": [],
   "source": [
    "def learning_loss_curve(x, series1, series2, caption = ''):\n",
    "    plt.plot(x, series1, color = 'r', label = 'Training')\n",
    "    plt.plot(x, series2, color = 'b', label = 'Validation')\n",
    "    plt.grid(b=True, which='major', color='#cccccc', linestyle='-')\n",
    "    plt.xlabel('Epochs')\n",
    "    plt.ylabel('Loss (%)')\n",
    "    plt.title('CNN Learning Loss Curve{}'.format(caption))\n",
    "    plt.legend()\n",
    "    plt.show()"
   ]
  },
  {
   "cell_type": "markdown",
   "id": "d4aa6098-4380-4dfe-9397-5b6cf493f65e",
   "metadata": {},
   "source": [
    "<hr/>"
   ]
  },
  {
   "cell_type": "markdown",
   "id": "1cd5a45e-b385-44cf-a63e-1e927bf33073",
   "metadata": {},
   "source": [
    "### Data Loading, Analysis and Preprocessing"
   ]
  },
  {
   "cell_type": "markdown",
   "id": "c796194b-9626-4b43-a7fe-62b0aed47b41",
   "metadata": {},
   "source": [
    "#### Loading"
   ]
  },
  {
   "cell_type": "code",
   "execution_count": 7,
   "id": "977a20a2-cc31-4fc2-95a1-4dc6635fb102",
   "metadata": {},
   "outputs": [],
   "source": [
    "DATA_DIRECTORY_PATH = 'data'\n",
    "\n",
    "DEVELOPMENT_DATA_FILE = 'tweet_development_data.csv'\n",
    "DEVELOPMENT_DATA_FILE_PATH = os.path.join(DATA_DIRECTORY_PATH, DEVELOPMENT_DATA_FILE)\n",
    "\n",
    "HOLDOUT_DATA_FILE = 'tweet_holdout_data.csv'\n",
    "HOLDOUT_DATA_FILE_PATH = os.path.join(DATA_DIRECTORY_PATH, HOLDOUT_DATA_FILE)"
   ]
  },
  {
   "cell_type": "code",
   "execution_count": 8,
   "id": "106a79f9-083f-4137-bcf6-8207100c83f1",
   "metadata": {},
   "outputs": [],
   "source": [
    "development_data_df = pd.read_csv(DEVELOPMENT_DATA_FILE_PATH)"
   ]
  },
  {
   "cell_type": "code",
   "execution_count": 9,
   "id": "d25303fa-2f5d-441c-858c-88182991dbc6",
   "metadata": {},
   "outputs": [
    {
     "name": "stdout",
     "output_type": "stream",
     "text": [
      "COVID Tweets Development Data => Rows Count: 6,505 | Column Count: 2\n"
     ]
    }
   ],
   "source": [
    "dev_row_count, dev_col_count = development_data_df.shape\n",
    "print(\"COVID Tweets Development Data => Rows Count: {0:,} | Column Count: {1:,}\".format(dev_row_count, dev_col_count))"
   ]
  },
  {
   "cell_type": "code",
   "execution_count": 10,
   "id": "8128833a-9923-4900-ac58-dc840dd58bce",
   "metadata": {},
   "outputs": [],
   "source": [
    "holdout_data_df = pd.read_csv(HOLDOUT_DATA_FILE_PATH)"
   ]
  },
  {
   "cell_type": "code",
   "execution_count": 11,
   "id": "e8948e88-2933-4ea9-886f-d3db5e55c901",
   "metadata": {},
   "outputs": [
    {
     "name": "stdout",
     "output_type": "stream",
     "text": [
      "COVID Tweets Holdout Data => Rows Count: 2,055 | Column Count: 2\n"
     ]
    }
   ],
   "source": [
    "holdout_row_count, holdout_col_count = holdout_data_df.shape\n",
    "print(\"COVID Tweets Holdout Data => Rows Count: {0:,} | Column Count: {1:,}\".format(holdout_row_count, holdout_col_count))"
   ]
  },
  {
   "cell_type": "markdown",
   "id": "64aa0014-ad44-41d4-9ab7-4557a13b4a83",
   "metadata": {},
   "source": [
    "#### Data PreProcessing"
   ]
  },
  {
   "cell_type": "code",
   "execution_count": 12,
   "id": "378bf9d9-f80c-4f07-a45a-e20e647060a1",
   "metadata": {},
   "outputs": [
    {
     "name": "stdout",
     "output_type": "stream",
     "text": [
      "CPU times: user 5.6 s, sys: 40.4 ms, total: 5.64 s\n",
      "Wall time: 5.66 s\n"
     ]
    }
   ],
   "source": [
    "%%time\n",
    "\n",
    "# re-run data preprocess when changing the maximum sequence length cap\n",
    "development_data_df = preprocessor.preprocess_data(development_data_df, max_sequence_length = max_sequence_length)"
   ]
  },
  {
   "cell_type": "code",
   "execution_count": 13,
   "id": "176cd3ff-be31-4650-a128-be2c287d4f45",
   "metadata": {},
   "outputs": [
    {
     "data": {
      "text/html": [
       "<div>\n",
       "<style scoped>\n",
       "    .dataframe tbody tr th:only-of-type {\n",
       "        vertical-align: middle;\n",
       "    }\n",
       "\n",
       "    .dataframe tbody tr th {\n",
       "        vertical-align: top;\n",
       "    }\n",
       "\n",
       "    .dataframe thead th {\n",
       "        text-align: right;\n",
       "    }\n",
       "</style>\n",
       "<table border=\"1\" class=\"dataframe\">\n",
       "  <thead>\n",
       "    <tr style=\"text-align: right;\">\n",
       "      <th></th>\n",
       "      <th>tweet</th>\n",
       "      <th>label</th>\n",
       "      <th>tweet_adj</th>\n",
       "      <th>stems</th>\n",
       "      <th>lemmas</th>\n",
       "      <th>lengths</th>\n",
       "      <th>lengths_capped</th>\n",
       "      <th>target</th>\n",
       "    </tr>\n",
       "  </thead>\n",
       "  <tbody>\n",
       "    <tr>\n",
       "      <th>0</th>\n",
       "      <td>\"[T]he label of the popular Lysol already show...</td>\n",
       "      <td>fake</td>\n",
       "      <td>label popular lysol already show product kill ...</td>\n",
       "      <td>label popular lysol alreadi show product kill ...</td>\n",
       "      <td>label popular lysol already show product kill ...</td>\n",
       "      <td>12</td>\n",
       "      <td>12</td>\n",
       "      <td>1</td>\n",
       "    </tr>\n",
       "    <tr>\n",
       "      <th>1</th>\n",
       "      <td>There were more deaths on the roads of France ...</td>\n",
       "      <td>fake</td>\n",
       "      <td>deaths roads france july death covid-19</td>\n",
       "      <td>death road franc juli death covid-19</td>\n",
       "      <td>death road france july death covid-19</td>\n",
       "      <td>6</td>\n",
       "      <td>6</td>\n",
       "      <td>1</td>\n",
       "    </tr>\n",
       "    <tr>\n",
       "      <th>2</th>\n",
       "      <td>250 new cases of #COVID19Nigeria; Plateau-69 F...</td>\n",
       "      <td>real</td>\n",
       "      <td>new cases covid19nigeria plateau-69 fct-41 lag...</td>\n",
       "      <td>new case covid19nigeria plateau-69 fct-41 lago...</td>\n",
       "      <td>new case covid19nigeria plateau-69 fct-41 lago...</td>\n",
       "      <td>27</td>\n",
       "      <td>27</td>\n",
       "      <td>0</td>\n",
       "    </tr>\n",
       "    <tr>\n",
       "      <th>3</th>\n",
       "      <td>@XanderArmstrong Why was chloroquine described...</td>\n",
       "      <td>fake</td>\n",
       "      <td>xanderarmstrong chloroquine described wonder d...</td>\n",
       "      <td>xanderarmstrong chloroquin describ wonder drug...</td>\n",
       "      <td>xanderarmstrong chloroquine described wonder d...</td>\n",
       "      <td>17</td>\n",
       "      <td>17</td>\n",
       "      <td>1</td>\n",
       "    </tr>\n",
       "    <tr>\n",
       "      <th>4</th>\n",
       "      <td>Our new Can Compare 'College' tags make it eas...</td>\n",
       "      <td>real</td>\n",
       "      <td>new compare tags make easier see covid impact ...</td>\n",
       "      <td>new compar tag make easier see covid impact to...</td>\n",
       "      <td>new compare tag make easier see covid impact t...</td>\n",
       "      <td>20</td>\n",
       "      <td>20</td>\n",
       "      <td>0</td>\n",
       "    </tr>\n",
       "  </tbody>\n",
       "</table>\n",
       "</div>"
      ],
      "text/plain": [
       "                                               tweet label  \\\n",
       "0  \"[T]he label of the popular Lysol already show...  fake   \n",
       "1  There were more deaths on the roads of France ...  fake   \n",
       "2  250 new cases of #COVID19Nigeria; Plateau-69 F...  real   \n",
       "3  @XanderArmstrong Why was chloroquine described...  fake   \n",
       "4  Our new Can Compare 'College' tags make it eas...  real   \n",
       "\n",
       "                                           tweet_adj  \\\n",
       "0  label popular lysol already show product kill ...   \n",
       "1            deaths roads france july death covid-19   \n",
       "2  new cases covid19nigeria plateau-69 fct-41 lag...   \n",
       "3  xanderarmstrong chloroquine described wonder d...   \n",
       "4  new compare tags make easier see covid impact ...   \n",
       "\n",
       "                                               stems  \\\n",
       "0  label popular lysol alreadi show product kill ...   \n",
       "1               death road franc juli death covid-19   \n",
       "2  new case covid19nigeria plateau-69 fct-41 lago...   \n",
       "3  xanderarmstrong chloroquin describ wonder drug...   \n",
       "4  new compar tag make easier see covid impact to...   \n",
       "\n",
       "                                              lemmas  lengths  lengths_capped  \\\n",
       "0  label popular lysol already show product kill ...       12              12   \n",
       "1              death road france july death covid-19        6               6   \n",
       "2  new case covid19nigeria plateau-69 fct-41 lago...       27              27   \n",
       "3  xanderarmstrong chloroquine described wonder d...       17              17   \n",
       "4  new compare tag make easier see covid impact t...       20              20   \n",
       "\n",
       "   target  \n",
       "0       1  \n",
       "1       1  \n",
       "2       0  \n",
       "3       1  \n",
       "4       0  "
      ]
     },
     "execution_count": 13,
     "metadata": {},
     "output_type": "execute_result"
    }
   ],
   "source": [
    "development_data_df.head(5)"
   ]
  },
  {
   "cell_type": "code",
   "execution_count": 14,
   "id": "89eae691-7d5f-4f1d-84e6-2c8c1ed9d670",
   "metadata": {},
   "outputs": [
    {
     "name": "stdout",
     "output_type": "stream",
     "text": [
      "CPU times: user 1.52 s, sys: 4.6 ms, total: 1.52 s\n",
      "Wall time: 1.52 s\n"
     ]
    }
   ],
   "source": [
    "%%time\n",
    "\n",
    "# re-run data preprocess when changing the maximum sequence length cap\n",
    "holdout_data_df = preprocessor.preprocess_data(holdout_data_df, max_sequence_length = max_sequence_length)"
   ]
  },
  {
   "cell_type": "markdown",
   "id": "361ac862-8d9d-4da7-a29c-251768a6de80",
   "metadata": {},
   "source": [
    "#### Exploratory Data Analysis (EDA)"
   ]
  },
  {
   "cell_type": "code",
   "execution_count": 156,
   "id": "cc0c8823-6c1a-4e96-b843-542ddb2a6df0",
   "metadata": {},
   "outputs": [],
   "source": [
    "def print_word_count_distribution(data_series:pd.Series, chart_title = 'Word Count Distribution', proposed_max_sequence_length = None, caption_vertical_offset = 0) -> (int, int, int):\n",
    "    min_word_count = int(data_series.min())#.round())\n",
    "    mean_word_count = int(data_series.mean())#.round())\n",
    "    max_word_count = int(data_series.max())#.round())\n",
    "    \n",
    "    plt.hist(data_series, bins = 50, histtype = 'bar')\n",
    "    \n",
    "    plt.title(chart_title)\n",
    "    plt.xlabel('# Words')\n",
    "    plt.ylabel('# Tweets')\n",
    "    \n",
    "    plt.grid(b = True, which = 'major', color = '#cccccc', linestyle = '-')\n",
    "    \n",
    "    bottom, top = plt.ylim()\n",
    "    \n",
    "    plt.axvline(x = mean_word_count, color='green', linestyle='--')\n",
    "    plt.text(mean_word_count, top + caption_vertical_offset, ' mean word count: {:,}'.format(mean_word_count), color = 'green', fontsize = 11)\n",
    "    plt.axvline(x = max_word_count, color='red', linestyle='--')\n",
    "    plt.text(max_word_count, top + caption_vertical_offset, ' max word count: {:,}'.format(max_word_count), color = 'red', fontsize = 11)\n",
    "    plt.axvline(x = proposed_max_sequence_length, color='black', linestyle='--')\n",
    "    plt.text(proposed_max_sequence_length, top + 2 * caption_vertical_offset, ' max word count: {:,}'.format(proposed_max_sequence_length), color = 'black', fontsize = 11)\n",
    "    \n",
    "    return min_word_count, mean_word_count, max_word_count"
   ]
  },
  {
   "cell_type": "code",
   "execution_count": 16,
   "id": "71f8b42c-1a83-4ac3-bf6d-c18f25ca5606",
   "metadata": {},
   "outputs": [
    {
     "name": "stdout",
     "output_type": "stream",
     "text": [
      "<class 'pandas.core.frame.DataFrame'>\n",
      "RangeIndex: 6505 entries, 0 to 6504\n",
      "Data columns (total 8 columns):\n",
      " #   Column          Non-Null Count  Dtype \n",
      "---  ------          --------------  ----- \n",
      " 0   tweet           6505 non-null   object\n",
      " 1   label           6505 non-null   object\n",
      " 2   tweet_adj       6505 non-null   object\n",
      " 3   stems           6505 non-null   object\n",
      " 4   lemmas          6505 non-null   object\n",
      " 5   lengths         6505 non-null   int64 \n",
      " 6   lengths_capped  6505 non-null   int64 \n",
      " 7   target          6505 non-null   int64 \n",
      "dtypes: int64(3), object(5)\n",
      "memory usage: 406.7+ KB\n"
     ]
    }
   ],
   "source": [
    "development_data_df.info()"
   ]
  },
  {
   "cell_type": "code",
   "execution_count": 17,
   "id": "2d4af644-264d-4b3b-92c7-af2b3d173e22",
   "metadata": {},
   "outputs": [
    {
     "data": {
      "text/html": [
       "<div>\n",
       "<style scoped>\n",
       "    .dataframe tbody tr th:only-of-type {\n",
       "        vertical-align: middle;\n",
       "    }\n",
       "\n",
       "    .dataframe tbody tr th {\n",
       "        vertical-align: top;\n",
       "    }\n",
       "\n",
       "    .dataframe thead th {\n",
       "        text-align: right;\n",
       "    }\n",
       "</style>\n",
       "<table border=\"1\" class=\"dataframe\">\n",
       "  <thead>\n",
       "    <tr style=\"text-align: right;\">\n",
       "      <th></th>\n",
       "      <th>tweet</th>\n",
       "      <th>label</th>\n",
       "      <th>tweet_adj</th>\n",
       "      <th>stems</th>\n",
       "      <th>lemmas</th>\n",
       "      <th>lengths</th>\n",
       "      <th>lengths_capped</th>\n",
       "      <th>target</th>\n",
       "    </tr>\n",
       "  </thead>\n",
       "  <tbody>\n",
       "    <tr>\n",
       "      <th>0</th>\n",
       "      <td>\"[T]he label of the popular Lysol already show...</td>\n",
       "      <td>fake</td>\n",
       "      <td>label popular lysol already show product kill ...</td>\n",
       "      <td>label popular lysol alreadi show product kill ...</td>\n",
       "      <td>label popular lysol already show product kill ...</td>\n",
       "      <td>12</td>\n",
       "      <td>12</td>\n",
       "      <td>1</td>\n",
       "    </tr>\n",
       "    <tr>\n",
       "      <th>1</th>\n",
       "      <td>There were more deaths on the roads of France ...</td>\n",
       "      <td>fake</td>\n",
       "      <td>deaths roads france july death covid-19</td>\n",
       "      <td>death road franc juli death covid-19</td>\n",
       "      <td>death road france july death covid-19</td>\n",
       "      <td>6</td>\n",
       "      <td>6</td>\n",
       "      <td>1</td>\n",
       "    </tr>\n",
       "    <tr>\n",
       "      <th>2</th>\n",
       "      <td>250 new cases of #COVID19Nigeria; Plateau-69 F...</td>\n",
       "      <td>real</td>\n",
       "      <td>new cases covid19nigeria plateau-69 fct-41 lag...</td>\n",
       "      <td>new case covid19nigeria plateau-69 fct-41 lago...</td>\n",
       "      <td>new case covid19nigeria plateau-69 fct-41 lago...</td>\n",
       "      <td>27</td>\n",
       "      <td>27</td>\n",
       "      <td>0</td>\n",
       "    </tr>\n",
       "    <tr>\n",
       "      <th>3</th>\n",
       "      <td>@XanderArmstrong Why was chloroquine described...</td>\n",
       "      <td>fake</td>\n",
       "      <td>xanderarmstrong chloroquine described wonder d...</td>\n",
       "      <td>xanderarmstrong chloroquin describ wonder drug...</td>\n",
       "      <td>xanderarmstrong chloroquine described wonder d...</td>\n",
       "      <td>17</td>\n",
       "      <td>17</td>\n",
       "      <td>1</td>\n",
       "    </tr>\n",
       "    <tr>\n",
       "      <th>4</th>\n",
       "      <td>Our new Can Compare 'College' tags make it eas...</td>\n",
       "      <td>real</td>\n",
       "      <td>new compare tags make easier see covid impact ...</td>\n",
       "      <td>new compar tag make easier see covid impact to...</td>\n",
       "      <td>new compare tag make easier see covid impact t...</td>\n",
       "      <td>20</td>\n",
       "      <td>20</td>\n",
       "      <td>0</td>\n",
       "    </tr>\n",
       "  </tbody>\n",
       "</table>\n",
       "</div>"
      ],
      "text/plain": [
       "                                               tweet label  \\\n",
       "0  \"[T]he label of the popular Lysol already show...  fake   \n",
       "1  There were more deaths on the roads of France ...  fake   \n",
       "2  250 new cases of #COVID19Nigeria; Plateau-69 F...  real   \n",
       "3  @XanderArmstrong Why was chloroquine described...  fake   \n",
       "4  Our new Can Compare 'College' tags make it eas...  real   \n",
       "\n",
       "                                           tweet_adj  \\\n",
       "0  label popular lysol already show product kill ...   \n",
       "1            deaths roads france july death covid-19   \n",
       "2  new cases covid19nigeria plateau-69 fct-41 lag...   \n",
       "3  xanderarmstrong chloroquine described wonder d...   \n",
       "4  new compare tags make easier see covid impact ...   \n",
       "\n",
       "                                               stems  \\\n",
       "0  label popular lysol alreadi show product kill ...   \n",
       "1               death road franc juli death covid-19   \n",
       "2  new case covid19nigeria plateau-69 fct-41 lago...   \n",
       "3  xanderarmstrong chloroquin describ wonder drug...   \n",
       "4  new compar tag make easier see covid impact to...   \n",
       "\n",
       "                                              lemmas  lengths  lengths_capped  \\\n",
       "0  label popular lysol already show product kill ...       12              12   \n",
       "1              death road france july death covid-19        6               6   \n",
       "2  new case covid19nigeria plateau-69 fct-41 lago...       27              27   \n",
       "3  xanderarmstrong chloroquine described wonder d...       17              17   \n",
       "4  new compare tag make easier see covid impact t...       20              20   \n",
       "\n",
       "   target  \n",
       "0       1  \n",
       "1       1  \n",
       "2       0  \n",
       "3       1  \n",
       "4       0  "
      ]
     },
     "execution_count": 17,
     "metadata": {},
     "output_type": "execute_result"
    }
   ],
   "source": [
    "development_data_df.head(5)"
   ]
  },
  {
   "cell_type": "code",
   "execution_count": 187,
   "id": "15e3c650-bde4-4d2b-bdea-8886d5ef6c5b",
   "metadata": {},
   "outputs": [],
   "source": [
    "distributions = {\n",
    "    'Label': ['fake', 'real'],\n",
    "    #'Index': [0, 1],\n",
    "    'Count (n)': [\n",
    "        len(development_data_df.loc[development_data_df['label'] == 'fake']),\n",
    "        len(development_data_df.loc[development_data_df['label'] == 'real'])\n",
    "    ],\n",
    "    'Percent (%)': [\n",
    "        np.round(len(development_data_df.loc[development_data_df['label'] == 'fake']) / dev_row_count, 2) * 100.0,\n",
    "        np.round(len(development_data_df.loc[development_data_df['label'] == 'real']) / dev_row_count, 2) * 100.0\n",
    "    ]\n",
    "}"
   ]
  },
  {
   "cell_type": "code",
   "execution_count": 188,
   "id": "be822010-0e04-4df0-9d27-252f3fe1a8db",
   "metadata": {},
   "outputs": [
    {
     "data": {
      "text/html": [
       "<div>\n",
       "<style scoped>\n",
       "    .dataframe tbody tr th:only-of-type {\n",
       "        vertical-align: middle;\n",
       "    }\n",
       "\n",
       "    .dataframe tbody tr th {\n",
       "        vertical-align: top;\n",
       "    }\n",
       "\n",
       "    .dataframe thead th {\n",
       "        text-align: right;\n",
       "    }\n",
       "</style>\n",
       "<table border=\"1\" class=\"dataframe\">\n",
       "  <thead>\n",
       "    <tr style=\"text-align: right;\">\n",
       "      <th></th>\n",
       "      <th>Label</th>\n",
       "      <th>Count (n)</th>\n",
       "      <th>Percent (%)</th>\n",
       "    </tr>\n",
       "  </thead>\n",
       "  <tbody>\n",
       "    <tr>\n",
       "      <th>0</th>\n",
       "      <td>fake</td>\n",
       "      <td>3088</td>\n",
       "      <td>47.0</td>\n",
       "    </tr>\n",
       "    <tr>\n",
       "      <th>1</th>\n",
       "      <td>real</td>\n",
       "      <td>3417</td>\n",
       "      <td>53.0</td>\n",
       "    </tr>\n",
       "  </tbody>\n",
       "</table>\n",
       "</div>"
      ],
      "text/plain": [
       "  Label  Count (n)  Percent (%)\n",
       "0  fake       3088         47.0\n",
       "1  real       3417         53.0"
      ]
     },
     "execution_count": 188,
     "metadata": {},
     "output_type": "execute_result"
    }
   ],
   "source": [
    "pd.DataFrame(data=distributions)"
   ]
  },
  {
   "cell_type": "code",
   "execution_count": 157,
   "id": "35d6222c-183a-40bb-ab00-92aaad4aacdf",
   "metadata": {},
   "outputs": [
    {
     "data": {
      "image/png": "[encoded data removed]",
      "text/plain": [
       "<Figure size 432x288 with 1 Axes>"
      ]
     },
     "metadata": {
      "needs_background": "light"
     },
     "output_type": "display_data"
    }
   ],
   "source": [
    "min_word_count, mean_word_count, max_word_count = print_word_count_distribution(\n",
    "    development_data_df['lengths'], proposed_max_sequence_length = max_sequence_length, caption_vertical_offset = -1000\n",
    ")"
   ]
  },
  {
   "cell_type": "code",
   "execution_count": 158,
   "id": "1f2987fe-0f68-44a5-a1f8-519eda585ca0",
   "metadata": {},
   "outputs": [
    {
     "data": {
      "image/png": "[encoded data removed]",
      "text/plain": [
       "<Figure size 432x288 with 1 Axes>"
      ]
     },
     "metadata": {
      "needs_background": "light"
     },
     "output_type": "display_data"
    }
   ],
   "source": [
    "min_word_count, mean_word_count, max_word_count = print_word_count_distribution(\n",
    "    development_data_df['lengths_capped'], proposed_max_sequence_length = max_sequence_length, caption_vertical_offset = -35\n",
    ")"
   ]
  },
  {
   "cell_type": "code",
   "execution_count": 186,
   "id": "87f2b855-9eba-49a8-b93e-483eb88d4d7e",
   "metadata": {},
   "outputs": [
    {
     "data": {
      "text/html": [
       "<div>\n",
       "<style scoped>\n",
       "    .dataframe tbody tr th:only-of-type {\n",
       "        vertical-align: middle;\n",
       "    }\n",
       "\n",
       "    .dataframe tbody tr th {\n",
       "        vertical-align: top;\n",
       "    }\n",
       "\n",
       "    .dataframe thead th {\n",
       "        text-align: right;\n",
       "    }\n",
       "</style>\n",
       "<table border=\"1\" class=\"dataframe\">\n",
       "  <thead>\n",
       "    <tr style=\"text-align: right;\">\n",
       "      <th></th>\n",
       "      <th>Label</th>\n",
       "      <th>Count (n)</th>\n",
       "      <th>Percent (%)</th>\n",
       "    </tr>\n",
       "  </thead>\n",
       "  <tbody>\n",
       "    <tr>\n",
       "      <th>0</th>\n",
       "      <td>fake</td>\n",
       "      <td>992</td>\n",
       "      <td>48.0</td>\n",
       "    </tr>\n",
       "    <tr>\n",
       "      <th>1</th>\n",
       "      <td>real</td>\n",
       "      <td>1063</td>\n",
       "      <td>52.0</td>\n",
       "    </tr>\n",
       "  </tbody>\n",
       "</table>\n",
       "</div>"
      ],
      "text/plain": [
       "  Label  Count (n)  Percent (%)\n",
       "0  fake        992         48.0\n",
       "1  real       1063         52.0"
      ]
     },
     "execution_count": 186,
     "metadata": {},
     "output_type": "execute_result"
    }
   ],
   "source": [
    "distributions_holdout = {\n",
    "    'Label': ['fake', 'real'],\n",
    "    #'Index': [0, 1],\n",
    "    'Count (n)': [\n",
    "        len(holdout_data_df.loc[holdout_data_df['label'] == 'fake']),\n",
    "        len(holdout_data_df.loc[holdout_data_df['label'] == 'real'])\n",
    "    ],\n",
    "    'Percent (%)': [\n",
    "        np.round(len(holdout_data_df.loc[holdout_data_df['label'] == 'fake']) / holdout_row_count, 2) * 100.0,\n",
    "        np.round(len(holdout_data_df.loc[holdout_data_df['label'] == 'real']) / holdout_row_count, 2) * 100.0\n",
    "    ]\n",
    "}\n",
    "pd.DataFrame(data=distributions_holdout)"
   ]
  },
  {
   "cell_type": "markdown",
   "id": "1c273448-64d5-402f-9fff-6b1035673b9a",
   "metadata": {},
   "source": [
    "#### Training, Validation, Testing"
   ]
  },
  {
   "cell_type": "code",
   "execution_count": 23,
   "id": "4997ae8c-c73f-4754-b6a3-4dd25e8fde92",
   "metadata": {},
   "outputs": [],
   "source": [
    "# identify target variable\n",
    "target_variable = 'target'\n",
    "target_text_factor = 'tweet'\n",
    "target_text_factor_2 = 'tweet_adj'"
   ]
  },
  {
   "cell_type": "code",
   "execution_count": 24,
   "id": "673a0bb2-a925-4174-be44-2b6d5478979f",
   "metadata": {},
   "outputs": [],
   "source": [
    "# identify candidate variables for modeling later\n",
    "candidate_variables = [target_text_factor, target_text_factor_2]"
   ]
  },
  {
   "cell_type": "code",
   "execution_count": 25,
   "id": "c08fd864-e48a-48e1-bc12-b9f506fa48a5",
   "metadata": {},
   "outputs": [],
   "source": [
    "all_variables = candidate_variables + [target_variable]"
   ]
  },
  {
   "cell_type": "code",
   "execution_count": 26,
   "id": "06b04c0b-e794-4154-8a28-5265afd4bd60",
   "metadata": {},
   "outputs": [],
   "source": [
    "# let the candidate variables be represented as X (a matrix) and let the target variable be \n",
    "#  represented as y (a vector)\n",
    "X = development_data_df[candidate_variables]\n",
    "y = development_data_df[target_variable]\n",
    "\n",
    "validation_size = 0.10\n",
    "\n",
    "# split data into a training set and a test set\n",
    "X_train, X_valid, y_train, y_valid = train_test_split(X, y, test_size = validation_size, random_state = 1111)"
   ]
  },
  {
   "cell_type": "code",
   "execution_count": 27,
   "id": "ba37c88b-946b-4ab4-8305-2d56eb8c8352",
   "metadata": {},
   "outputs": [],
   "source": [
    "X_test = holdout_data_df[candidate_variables]\n",
    "y_test = holdout_data_df[target_variable]"
   ]
  },
  {
   "cell_type": "code",
   "execution_count": 184,
   "id": "c1c80ac0-0696-49f8-92df-ddde2ef7bccb",
   "metadata": {},
   "outputs": [
    {
     "data": {
      "text/html": [
       "<div>\n",
       "<style scoped>\n",
       "    .dataframe tbody tr th:only-of-type {\n",
       "        vertical-align: middle;\n",
       "    }\n",
       "\n",
       "    .dataframe tbody tr th {\n",
       "        vertical-align: top;\n",
       "    }\n",
       "\n",
       "    .dataframe thead th {\n",
       "        text-align: right;\n",
       "    }\n",
       "</style>\n",
       "<table border=\"1\" class=\"dataframe\">\n",
       "  <thead>\n",
       "    <tr style=\"text-align: right;\">\n",
       "      <th></th>\n",
       "      <th>tweet</th>\n",
       "      <th>label</th>\n",
       "    </tr>\n",
       "  </thead>\n",
       "  <tbody>\n",
       "    <tr>\n",
       "      <th>0</th>\n",
       "      <td>\"[T]he label of the popular Lysol already show...</td>\n",
       "      <td>fake</td>\n",
       "    </tr>\n",
       "    <tr>\n",
       "      <th>1</th>\n",
       "      <td>There were more deaths on the roads of France ...</td>\n",
       "      <td>fake</td>\n",
       "    </tr>\n",
       "    <tr>\n",
       "      <th>2</th>\n",
       "      <td>250 new cases of #COVID19Nigeria; Plateau-69 F...</td>\n",
       "      <td>real</td>\n",
       "    </tr>\n",
       "    <tr>\n",
       "      <th>3</th>\n",
       "      <td>@XanderArmstrong Why was chloroquine described...</td>\n",
       "      <td>fake</td>\n",
       "    </tr>\n",
       "    <tr>\n",
       "      <th>4</th>\n",
       "      <td>Our new Can Compare 'College' tags make it eas...</td>\n",
       "      <td>real</td>\n",
       "    </tr>\n",
       "    <tr>\n",
       "      <th>5</th>\n",
       "      <td>There is a higher risk of severe #COVID19 for ...</td>\n",
       "      <td>real</td>\n",
       "    </tr>\n",
       "    <tr>\n",
       "      <th>6</th>\n",
       "      <td>The President of the United States of America ...</td>\n",
       "      <td>fake</td>\n",
       "    </tr>\n",
       "    <tr>\n",
       "      <th>7</th>\n",
       "      <td>Don't give up on patients who still report sym...</td>\n",
       "      <td>real</td>\n",
       "    </tr>\n",
       "    <tr>\n",
       "      <th>8</th>\n",
       "      <td>Here's a map of the number of new cases report...</td>\n",
       "      <td>real</td>\n",
       "    </tr>\n",
       "    <tr>\n",
       "      <th>9</th>\n",
       "      <td>Holy Qur'an was banned in China now ban\\nHas b...</td>\n",
       "      <td>fake</td>\n",
       "    </tr>\n",
       "  </tbody>\n",
       "</table>\n",
       "</div>"
      ],
      "text/plain": [
       "                                               tweet label\n",
       "0  \"[T]he label of the popular Lysol already show...  fake\n",
       "1  There were more deaths on the roads of France ...  fake\n",
       "2  250 new cases of #COVID19Nigeria; Plateau-69 F...  real\n",
       "3  @XanderArmstrong Why was chloroquine described...  fake\n",
       "4  Our new Can Compare 'College' tags make it eas...  real\n",
       "5  There is a higher risk of severe #COVID19 for ...  real\n",
       "6  The President of the United States of America ...  fake\n",
       "7  Don't give up on patients who still report sym...  real\n",
       "8  Here's a map of the number of new cases report...  real\n",
       "9  Holy Qur'an was banned in China now ban\\nHas b...  fake"
      ]
     },
     "execution_count": 184,
     "metadata": {},
     "output_type": "execute_result"
    }
   ],
   "source": [
    "development_data_df[['tweet', 'label']].head(10)"
   ]
  },
  {
   "cell_type": "code",
   "execution_count": 185,
   "id": "bcec38e0-aef5-4d3e-a74f-23c37b04ecbf",
   "metadata": {},
   "outputs": [
    {
     "data": {
      "text/html": [
       "<div>\n",
       "<style scoped>\n",
       "    .dataframe tbody tr th:only-of-type {\n",
       "        vertical-align: middle;\n",
       "    }\n",
       "\n",
       "    .dataframe tbody tr th {\n",
       "        vertical-align: top;\n",
       "    }\n",
       "\n",
       "    .dataframe thead th {\n",
       "        text-align: right;\n",
       "    }\n",
       "</style>\n",
       "<table border=\"1\" class=\"dataframe\">\n",
       "  <thead>\n",
       "    <tr style=\"text-align: right;\">\n",
       "      <th></th>\n",
       "      <th>tweet</th>\n",
       "      <th>label</th>\n",
       "      <th>lengths</th>\n",
       "      <th>target</th>\n",
       "    </tr>\n",
       "  </thead>\n",
       "  <tbody>\n",
       "    <tr>\n",
       "      <th>0</th>\n",
       "      <td>\"[T]he label of the popular Lysol already show...</td>\n",
       "      <td>fake</td>\n",
       "      <td>12</td>\n",
       "      <td>1</td>\n",
       "    </tr>\n",
       "    <tr>\n",
       "      <th>1</th>\n",
       "      <td>There were more deaths on the roads of France ...</td>\n",
       "      <td>fake</td>\n",
       "      <td>6</td>\n",
       "      <td>1</td>\n",
       "    </tr>\n",
       "    <tr>\n",
       "      <th>2</th>\n",
       "      <td>250 new cases of #COVID19Nigeria; Plateau-69 F...</td>\n",
       "      <td>real</td>\n",
       "      <td>27</td>\n",
       "      <td>0</td>\n",
       "    </tr>\n",
       "    <tr>\n",
       "      <th>3</th>\n",
       "      <td>@XanderArmstrong Why was chloroquine described...</td>\n",
       "      <td>fake</td>\n",
       "      <td>17</td>\n",
       "      <td>1</td>\n",
       "    </tr>\n",
       "    <tr>\n",
       "      <th>4</th>\n",
       "      <td>Our new Can Compare 'College' tags make it eas...</td>\n",
       "      <td>real</td>\n",
       "      <td>20</td>\n",
       "      <td>0</td>\n",
       "    </tr>\n",
       "    <tr>\n",
       "      <th>5</th>\n",
       "      <td>There is a higher risk of severe #COVID19 for ...</td>\n",
       "      <td>real</td>\n",
       "      <td>13</td>\n",
       "      <td>0</td>\n",
       "    </tr>\n",
       "    <tr>\n",
       "      <th>6</th>\n",
       "      <td>The President of the United States of America ...</td>\n",
       "      <td>fake</td>\n",
       "      <td>9</td>\n",
       "      <td>1</td>\n",
       "    </tr>\n",
       "    <tr>\n",
       "      <th>7</th>\n",
       "      <td>Don't give up on patients who still report sym...</td>\n",
       "      <td>real</td>\n",
       "      <td>9</td>\n",
       "      <td>0</td>\n",
       "    </tr>\n",
       "    <tr>\n",
       "      <th>8</th>\n",
       "      <td>Here's a map of the number of new cases report...</td>\n",
       "      <td>real</td>\n",
       "      <td>12</td>\n",
       "      <td>0</td>\n",
       "    </tr>\n",
       "    <tr>\n",
       "      <th>9</th>\n",
       "      <td>Holy Qur'an was banned in China now ban\\nHas b...</td>\n",
       "      <td>fake</td>\n",
       "      <td>12</td>\n",
       "      <td>1</td>\n",
       "    </tr>\n",
       "  </tbody>\n",
       "</table>\n",
       "</div>"
      ],
      "text/plain": [
       "                                               tweet label  lengths  target\n",
       "0  \"[T]he label of the popular Lysol already show...  fake       12       1\n",
       "1  There were more deaths on the roads of France ...  fake        6       1\n",
       "2  250 new cases of #COVID19Nigeria; Plateau-69 F...  real       27       0\n",
       "3  @XanderArmstrong Why was chloroquine described...  fake       17       1\n",
       "4  Our new Can Compare 'College' tags make it eas...  real       20       0\n",
       "5  There is a higher risk of severe #COVID19 for ...  real       13       0\n",
       "6  The President of the United States of America ...  fake        9       1\n",
       "7  Don't give up on patients who still report sym...  real        9       0\n",
       "8  Here's a map of the number of new cases report...  real       12       0\n",
       "9  Holy Qur'an was banned in China now ban\\nHas b...  fake       12       1"
      ]
     },
     "execution_count": 185,
     "metadata": {},
     "output_type": "execute_result"
    }
   ],
   "source": [
    "development_data_df[['tweet', 'label', 'lengths', 'target']].head(10)"
   ]
  },
  {
   "cell_type": "markdown",
   "id": "638f5eae-f30c-417f-978c-eb9d3a9300fe",
   "metadata": {},
   "source": [
    "<hr/>"
   ]
  },
  {
   "cell_type": "markdown",
   "id": "46f03c05-3ed5-4f3a-b14a-5403fdd6facb",
   "metadata": {},
   "source": [
    "### TF IDF Vectorization"
   ]
  },
  {
   "cell_type": "code",
   "execution_count": 28,
   "id": "1a94a6c5-9f40-4a0a-8fc2-10d8db7ad435",
   "metadata": {},
   "outputs": [
    {
     "name": "stdout",
     "output_type": "stream",
     "text": [
      "CPU times: user 3.78 s, sys: 19.6 ms, total: 3.79 s\n",
      "Wall time: 3.8 s\n"
     ]
    }
   ],
   "source": [
    "%%time\n",
    "\n",
    "unique_features_list, doc_term_matrix, vocabulary_index, vectorizer = preprocessor.get_doc_term_matrix(\n",
    "    X_train[target_text_factor].values,\n",
    "    ngram_range = (1, 3),\n",
    "    min_max_range = (.01, .8)# (.10, .60)\n",
    ")"
   ]
  },
  {
   "cell_type": "code",
   "execution_count": 29,
   "id": "5441ab95-9558-4ea7-b31a-4bdcd35a367a",
   "metadata": {},
   "outputs": [
    {
     "data": {
      "text/plain": [
       "258"
      ]
     },
     "execution_count": 29,
     "metadata": {},
     "output_type": "execute_result"
    }
   ],
   "source": [
    "len(unique_features_list)"
   ]
  },
  {
   "cell_type": "code",
   "execution_count": 31,
   "id": "72780afd-2ddf-42cf-beac-5a122dc45423",
   "metadata": {},
   "outputs": [],
   "source": [
    "X_train_adj = doc_term_matrix.toarray()\n",
    "\n",
    "X_valid_adj = vectorizer.transform(X_valid[target_text_factor].values).toarray()\n",
    "X_test_adj = vectorizer.transform(X_test[target_text_factor].values).toarray()"
   ]
  },
  {
   "cell_type": "code",
   "execution_count": 32,
   "id": "7804903d-730e-4465-92a2-2b9645ddca09",
   "metadata": {},
   "outputs": [
    {
     "data": {
      "text/plain": [
       "True"
      ]
     },
     "execution_count": 32,
     "metadata": {},
     "output_type": "execute_result"
    }
   ],
   "source": [
    "X_train_adj.shape == doc_term_matrix.shape"
   ]
  },
  {
   "cell_type": "code",
   "execution_count": 33,
   "id": "c40a432c-ad7a-4a71-a273-e9b543fa895b",
   "metadata": {},
   "outputs": [
    {
     "data": {
      "text/html": [
       "<div>\n",
       "<style scoped>\n",
       "    .dataframe tbody tr th:only-of-type {\n",
       "        vertical-align: middle;\n",
       "    }\n",
       "\n",
       "    .dataframe tbody tr th {\n",
       "        vertical-align: top;\n",
       "    }\n",
       "\n",
       "    .dataframe thead th {\n",
       "        text-align: right;\n",
       "    }\n",
       "</style>\n",
       "<table border=\"1\" class=\"dataframe\">\n",
       "  <thead>\n",
       "    <tr style=\"text-align: right;\">\n",
       "      <th></th>\n",
       "      <th>across</th>\n",
       "      <th>active</th>\n",
       "      <th>active cases</th>\n",
       "      <th>also</th>\n",
       "      <th>amp</th>\n",
       "      <th>announced</th>\n",
       "      <th>april</th>\n",
       "      <th>around</th>\n",
       "      <th>auckland</th>\n",
       "      <th>average</th>\n",
       "      <th>...</th>\n",
       "      <th>way</th>\n",
       "      <th>wear</th>\n",
       "      <th>week</th>\n",
       "      <th>weeks</th>\n",
       "      <th>work</th>\n",
       "      <th>world</th>\n",
       "      <th>would</th>\n",
       "      <th>yesterday</th>\n",
       "      <th>york</th>\n",
       "      <th>zealand</th>\n",
       "    </tr>\n",
       "  </thead>\n",
       "  <tbody>\n",
       "    <tr>\n",
       "      <th>0</th>\n",
       "      <td>0.0</td>\n",
       "      <td>0.000000</td>\n",
       "      <td>0.000000</td>\n",
       "      <td>0.267253</td>\n",
       "      <td>0.0</td>\n",
       "      <td>0.0</td>\n",
       "      <td>0.0</td>\n",
       "      <td>0.0</td>\n",
       "      <td>0.0</td>\n",
       "      <td>0.0</td>\n",
       "      <td>...</td>\n",
       "      <td>0.0</td>\n",
       "      <td>0.0</td>\n",
       "      <td>0.0</td>\n",
       "      <td>0.0</td>\n",
       "      <td>0.0</td>\n",
       "      <td>0.0</td>\n",
       "      <td>0.000000</td>\n",
       "      <td>0.0</td>\n",
       "      <td>0.0</td>\n",
       "      <td>0.0</td>\n",
       "    </tr>\n",
       "    <tr>\n",
       "      <th>1</th>\n",
       "      <td>0.0</td>\n",
       "      <td>0.000000</td>\n",
       "      <td>0.000000</td>\n",
       "      <td>0.000000</td>\n",
       "      <td>0.0</td>\n",
       "      <td>0.0</td>\n",
       "      <td>0.0</td>\n",
       "      <td>0.0</td>\n",
       "      <td>0.0</td>\n",
       "      <td>0.0</td>\n",
       "      <td>...</td>\n",
       "      <td>0.0</td>\n",
       "      <td>0.0</td>\n",
       "      <td>0.0</td>\n",
       "      <td>0.0</td>\n",
       "      <td>0.0</td>\n",
       "      <td>0.0</td>\n",
       "      <td>0.359118</td>\n",
       "      <td>0.0</td>\n",
       "      <td>0.0</td>\n",
       "      <td>0.0</td>\n",
       "    </tr>\n",
       "    <tr>\n",
       "      <th>2</th>\n",
       "      <td>0.0</td>\n",
       "      <td>0.000000</td>\n",
       "      <td>0.000000</td>\n",
       "      <td>0.000000</td>\n",
       "      <td>0.0</td>\n",
       "      <td>0.0</td>\n",
       "      <td>0.0</td>\n",
       "      <td>0.0</td>\n",
       "      <td>0.0</td>\n",
       "      <td>0.0</td>\n",
       "      <td>...</td>\n",
       "      <td>0.0</td>\n",
       "      <td>0.0</td>\n",
       "      <td>0.0</td>\n",
       "      <td>0.0</td>\n",
       "      <td>0.0</td>\n",
       "      <td>0.0</td>\n",
       "      <td>0.000000</td>\n",
       "      <td>0.0</td>\n",
       "      <td>0.0</td>\n",
       "      <td>0.0</td>\n",
       "    </tr>\n",
       "    <tr>\n",
       "      <th>3</th>\n",
       "      <td>0.0</td>\n",
       "      <td>0.227695</td>\n",
       "      <td>0.238695</td>\n",
       "      <td>0.000000</td>\n",
       "      <td>0.0</td>\n",
       "      <td>0.0</td>\n",
       "      <td>0.0</td>\n",
       "      <td>0.0</td>\n",
       "      <td>0.0</td>\n",
       "      <td>0.0</td>\n",
       "      <td>...</td>\n",
       "      <td>0.0</td>\n",
       "      <td>0.0</td>\n",
       "      <td>0.0</td>\n",
       "      <td>0.0</td>\n",
       "      <td>0.0</td>\n",
       "      <td>0.0</td>\n",
       "      <td>0.000000</td>\n",
       "      <td>0.0</td>\n",
       "      <td>0.0</td>\n",
       "      <td>0.0</td>\n",
       "    </tr>\n",
       "  </tbody>\n",
       "</table>\n",
       "<p>4 rows × 258 columns</p>\n",
       "</div>"
      ],
      "text/plain": [
       "   across    active  active cases      also  amp  announced  april  around  \\\n",
       "0     0.0  0.000000      0.000000  0.267253  0.0        0.0    0.0     0.0   \n",
       "1     0.0  0.000000      0.000000  0.000000  0.0        0.0    0.0     0.0   \n",
       "2     0.0  0.000000      0.000000  0.000000  0.0        0.0    0.0     0.0   \n",
       "3     0.0  0.227695      0.238695  0.000000  0.0        0.0    0.0     0.0   \n",
       "\n",
       "   auckland  average  ...  way  wear  week  weeks  work  world     would  \\\n",
       "0       0.0      0.0  ...  0.0   0.0   0.0    0.0   0.0    0.0  0.000000   \n",
       "1       0.0      0.0  ...  0.0   0.0   0.0    0.0   0.0    0.0  0.359118   \n",
       "2       0.0      0.0  ...  0.0   0.0   0.0    0.0   0.0    0.0  0.000000   \n",
       "3       0.0      0.0  ...  0.0   0.0   0.0    0.0   0.0    0.0  0.000000   \n",
       "\n",
       "   yesterday  york  zealand  \n",
       "0        0.0   0.0      0.0  \n",
       "1        0.0   0.0      0.0  \n",
       "2        0.0   0.0      0.0  \n",
       "3        0.0   0.0      0.0  \n",
       "\n",
       "[4 rows x 258 columns]"
      ]
     },
     "execution_count": 33,
     "metadata": {},
     "output_type": "execute_result"
    }
   ],
   "source": [
    "X_train_adj = pd.DataFrame(data=X_train_adj, columns=unique_features_list)\n",
    "X_train_adj.head(4)"
   ]
  },
  {
   "cell_type": "code",
   "execution_count": 34,
   "id": "5915714b-8131-4c7f-980c-52f467c1e359",
   "metadata": {},
   "outputs": [
    {
     "data": {
      "text/html": [
       "<div>\n",
       "<style scoped>\n",
       "    .dataframe tbody tr th:only-of-type {\n",
       "        vertical-align: middle;\n",
       "    }\n",
       "\n",
       "    .dataframe tbody tr th {\n",
       "        vertical-align: top;\n",
       "    }\n",
       "\n",
       "    .dataframe thead th {\n",
       "        text-align: right;\n",
       "    }\n",
       "</style>\n",
       "<table border=\"1\" class=\"dataframe\">\n",
       "  <thead>\n",
       "    <tr style=\"text-align: right;\">\n",
       "      <th></th>\n",
       "      <th>across</th>\n",
       "      <th>active</th>\n",
       "      <th>active cases</th>\n",
       "      <th>also</th>\n",
       "      <th>amp</th>\n",
       "      <th>announced</th>\n",
       "      <th>april</th>\n",
       "      <th>around</th>\n",
       "      <th>auckland</th>\n",
       "      <th>average</th>\n",
       "      <th>...</th>\n",
       "      <th>way</th>\n",
       "      <th>wear</th>\n",
       "      <th>week</th>\n",
       "      <th>weeks</th>\n",
       "      <th>work</th>\n",
       "      <th>world</th>\n",
       "      <th>would</th>\n",
       "      <th>yesterday</th>\n",
       "      <th>york</th>\n",
       "      <th>zealand</th>\n",
       "    </tr>\n",
       "  </thead>\n",
       "  <tbody>\n",
       "    <tr>\n",
       "      <th>0</th>\n",
       "      <td>0.0</td>\n",
       "      <td>0.0</td>\n",
       "      <td>0.0</td>\n",
       "      <td>0.000000</td>\n",
       "      <td>0.0</td>\n",
       "      <td>0.0</td>\n",
       "      <td>0.0</td>\n",
       "      <td>0.0</td>\n",
       "      <td>0.0</td>\n",
       "      <td>0.0</td>\n",
       "      <td>...</td>\n",
       "      <td>0.0</td>\n",
       "      <td>0.0</td>\n",
       "      <td>0.000000</td>\n",
       "      <td>0.0</td>\n",
       "      <td>0.00000</td>\n",
       "      <td>0.0</td>\n",
       "      <td>0.0</td>\n",
       "      <td>0.0</td>\n",
       "      <td>0.0</td>\n",
       "      <td>0.000000</td>\n",
       "    </tr>\n",
       "    <tr>\n",
       "      <th>1</th>\n",
       "      <td>0.0</td>\n",
       "      <td>0.0</td>\n",
       "      <td>0.0</td>\n",
       "      <td>0.000000</td>\n",
       "      <td>0.0</td>\n",
       "      <td>0.0</td>\n",
       "      <td>0.0</td>\n",
       "      <td>0.0</td>\n",
       "      <td>0.0</td>\n",
       "      <td>0.0</td>\n",
       "      <td>...</td>\n",
       "      <td>0.0</td>\n",
       "      <td>0.0</td>\n",
       "      <td>0.000000</td>\n",
       "      <td>0.0</td>\n",
       "      <td>0.28566</td>\n",
       "      <td>0.0</td>\n",
       "      <td>0.0</td>\n",
       "      <td>0.0</td>\n",
       "      <td>0.0</td>\n",
       "      <td>0.271902</td>\n",
       "    </tr>\n",
       "    <tr>\n",
       "      <th>2</th>\n",
       "      <td>0.0</td>\n",
       "      <td>0.0</td>\n",
       "      <td>0.0</td>\n",
       "      <td>0.000000</td>\n",
       "      <td>0.0</td>\n",
       "      <td>0.0</td>\n",
       "      <td>0.0</td>\n",
       "      <td>0.0</td>\n",
       "      <td>0.0</td>\n",
       "      <td>0.0</td>\n",
       "      <td>...</td>\n",
       "      <td>0.0</td>\n",
       "      <td>0.0</td>\n",
       "      <td>0.347018</td>\n",
       "      <td>0.0</td>\n",
       "      <td>0.00000</td>\n",
       "      <td>0.0</td>\n",
       "      <td>0.0</td>\n",
       "      <td>0.0</td>\n",
       "      <td>0.0</td>\n",
       "      <td>0.000000</td>\n",
       "    </tr>\n",
       "    <tr>\n",
       "      <th>3</th>\n",
       "      <td>0.0</td>\n",
       "      <td>0.0</td>\n",
       "      <td>0.0</td>\n",
       "      <td>0.298133</td>\n",
       "      <td>0.0</td>\n",
       "      <td>0.0</td>\n",
       "      <td>0.0</td>\n",
       "      <td>0.0</td>\n",
       "      <td>0.0</td>\n",
       "      <td>0.0</td>\n",
       "      <td>...</td>\n",
       "      <td>0.0</td>\n",
       "      <td>0.0</td>\n",
       "      <td>0.000000</td>\n",
       "      <td>0.0</td>\n",
       "      <td>0.00000</td>\n",
       "      <td>0.0</td>\n",
       "      <td>0.0</td>\n",
       "      <td>0.0</td>\n",
       "      <td>0.0</td>\n",
       "      <td>0.000000</td>\n",
       "    </tr>\n",
       "  </tbody>\n",
       "</table>\n",
       "<p>4 rows × 258 columns</p>\n",
       "</div>"
      ],
      "text/plain": [
       "   across  active  active cases      also  amp  announced  april  around  \\\n",
       "0     0.0     0.0           0.0  0.000000  0.0        0.0    0.0     0.0   \n",
       "1     0.0     0.0           0.0  0.000000  0.0        0.0    0.0     0.0   \n",
       "2     0.0     0.0           0.0  0.000000  0.0        0.0    0.0     0.0   \n",
       "3     0.0     0.0           0.0  0.298133  0.0        0.0    0.0     0.0   \n",
       "\n",
       "   auckland  average  ...  way  wear      week  weeks     work  world  would  \\\n",
       "0       0.0      0.0  ...  0.0   0.0  0.000000    0.0  0.00000    0.0    0.0   \n",
       "1       0.0      0.0  ...  0.0   0.0  0.000000    0.0  0.28566    0.0    0.0   \n",
       "2       0.0      0.0  ...  0.0   0.0  0.347018    0.0  0.00000    0.0    0.0   \n",
       "3       0.0      0.0  ...  0.0   0.0  0.000000    0.0  0.00000    0.0    0.0   \n",
       "\n",
       "   yesterday  york   zealand  \n",
       "0        0.0   0.0  0.000000  \n",
       "1        0.0   0.0  0.271902  \n",
       "2        0.0   0.0  0.000000  \n",
       "3        0.0   0.0  0.000000  \n",
       "\n",
       "[4 rows x 258 columns]"
      ]
     },
     "execution_count": 34,
     "metadata": {},
     "output_type": "execute_result"
    }
   ],
   "source": [
    "X_valid_adj = pd.DataFrame(data=X_valid_adj, columns=unique_features_list)\n",
    "X_valid_adj.head(4)"
   ]
  },
  {
   "cell_type": "code",
   "execution_count": 35,
   "id": "8715af44-c0bf-4ea4-bd99-203fd2c90880",
   "metadata": {},
   "outputs": [
    {
     "data": {
      "text/html": [
       "<div>\n",
       "<style scoped>\n",
       "    .dataframe tbody tr th:only-of-type {\n",
       "        vertical-align: middle;\n",
       "    }\n",
       "\n",
       "    .dataframe tbody tr th {\n",
       "        vertical-align: top;\n",
       "    }\n",
       "\n",
       "    .dataframe thead th {\n",
       "        text-align: right;\n",
       "    }\n",
       "</style>\n",
       "<table border=\"1\" class=\"dataframe\">\n",
       "  <thead>\n",
       "    <tr style=\"text-align: right;\">\n",
       "      <th></th>\n",
       "      <th>across</th>\n",
       "      <th>active</th>\n",
       "      <th>active cases</th>\n",
       "      <th>also</th>\n",
       "      <th>amp</th>\n",
       "      <th>announced</th>\n",
       "      <th>april</th>\n",
       "      <th>around</th>\n",
       "      <th>auckland</th>\n",
       "      <th>average</th>\n",
       "      <th>...</th>\n",
       "      <th>way</th>\n",
       "      <th>wear</th>\n",
       "      <th>week</th>\n",
       "      <th>weeks</th>\n",
       "      <th>work</th>\n",
       "      <th>world</th>\n",
       "      <th>would</th>\n",
       "      <th>yesterday</th>\n",
       "      <th>york</th>\n",
       "      <th>zealand</th>\n",
       "    </tr>\n",
       "  </thead>\n",
       "  <tbody>\n",
       "    <tr>\n",
       "      <th>0</th>\n",
       "      <td>0.0</td>\n",
       "      <td>0.0</td>\n",
       "      <td>0.0</td>\n",
       "      <td>0.0</td>\n",
       "      <td>0.000000</td>\n",
       "      <td>0.000000</td>\n",
       "      <td>0.0</td>\n",
       "      <td>0.0</td>\n",
       "      <td>0.0</td>\n",
       "      <td>0.0</td>\n",
       "      <td>...</td>\n",
       "      <td>0.0</td>\n",
       "      <td>0.0</td>\n",
       "      <td>0.0</td>\n",
       "      <td>0.0</td>\n",
       "      <td>0.0</td>\n",
       "      <td>0.0</td>\n",
       "      <td>0.0</td>\n",
       "      <td>0.0</td>\n",
       "      <td>0.0</td>\n",
       "      <td>0.0</td>\n",
       "    </tr>\n",
       "    <tr>\n",
       "      <th>1</th>\n",
       "      <td>0.0</td>\n",
       "      <td>0.0</td>\n",
       "      <td>0.0</td>\n",
       "      <td>0.0</td>\n",
       "      <td>0.257283</td>\n",
       "      <td>0.000000</td>\n",
       "      <td>0.0</td>\n",
       "      <td>0.0</td>\n",
       "      <td>0.0</td>\n",
       "      <td>0.0</td>\n",
       "      <td>...</td>\n",
       "      <td>0.0</td>\n",
       "      <td>0.0</td>\n",
       "      <td>0.0</td>\n",
       "      <td>0.0</td>\n",
       "      <td>0.0</td>\n",
       "      <td>0.0</td>\n",
       "      <td>0.0</td>\n",
       "      <td>0.0</td>\n",
       "      <td>0.0</td>\n",
       "      <td>0.0</td>\n",
       "    </tr>\n",
       "    <tr>\n",
       "      <th>2</th>\n",
       "      <td>0.0</td>\n",
       "      <td>0.0</td>\n",
       "      <td>0.0</td>\n",
       "      <td>0.0</td>\n",
       "      <td>0.000000</td>\n",
       "      <td>0.000000</td>\n",
       "      <td>0.0</td>\n",
       "      <td>0.0</td>\n",
       "      <td>0.0</td>\n",
       "      <td>0.0</td>\n",
       "      <td>...</td>\n",
       "      <td>0.0</td>\n",
       "      <td>0.0</td>\n",
       "      <td>0.0</td>\n",
       "      <td>0.0</td>\n",
       "      <td>0.0</td>\n",
       "      <td>0.0</td>\n",
       "      <td>0.0</td>\n",
       "      <td>0.0</td>\n",
       "      <td>0.0</td>\n",
       "      <td>0.0</td>\n",
       "    </tr>\n",
       "    <tr>\n",
       "      <th>3</th>\n",
       "      <td>0.0</td>\n",
       "      <td>0.0</td>\n",
       "      <td>0.0</td>\n",
       "      <td>0.0</td>\n",
       "      <td>0.000000</td>\n",
       "      <td>0.196748</td>\n",
       "      <td>0.0</td>\n",
       "      <td>0.0</td>\n",
       "      <td>0.0</td>\n",
       "      <td>0.0</td>\n",
       "      <td>...</td>\n",
       "      <td>0.0</td>\n",
       "      <td>0.0</td>\n",
       "      <td>0.0</td>\n",
       "      <td>0.0</td>\n",
       "      <td>0.0</td>\n",
       "      <td>0.0</td>\n",
       "      <td>0.0</td>\n",
       "      <td>0.0</td>\n",
       "      <td>0.0</td>\n",
       "      <td>0.0</td>\n",
       "    </tr>\n",
       "  </tbody>\n",
       "</table>\n",
       "<p>4 rows × 258 columns</p>\n",
       "</div>"
      ],
      "text/plain": [
       "   across  active  active cases  also       amp  announced  april  around  \\\n",
       "0     0.0     0.0           0.0   0.0  0.000000   0.000000    0.0     0.0   \n",
       "1     0.0     0.0           0.0   0.0  0.257283   0.000000    0.0     0.0   \n",
       "2     0.0     0.0           0.0   0.0  0.000000   0.000000    0.0     0.0   \n",
       "3     0.0     0.0           0.0   0.0  0.000000   0.196748    0.0     0.0   \n",
       "\n",
       "   auckland  average  ...  way  wear  week  weeks  work  world  would  \\\n",
       "0       0.0      0.0  ...  0.0   0.0   0.0    0.0   0.0    0.0    0.0   \n",
       "1       0.0      0.0  ...  0.0   0.0   0.0    0.0   0.0    0.0    0.0   \n",
       "2       0.0      0.0  ...  0.0   0.0   0.0    0.0   0.0    0.0    0.0   \n",
       "3       0.0      0.0  ...  0.0   0.0   0.0    0.0   0.0    0.0    0.0   \n",
       "\n",
       "   yesterday  york  zealand  \n",
       "0        0.0   0.0      0.0  \n",
       "1        0.0   0.0      0.0  \n",
       "2        0.0   0.0      0.0  \n",
       "3        0.0   0.0      0.0  \n",
       "\n",
       "[4 rows x 258 columns]"
      ]
     },
     "execution_count": 35,
     "metadata": {},
     "output_type": "execute_result"
    }
   ],
   "source": [
    "X_test_adj = pd.DataFrame(data=X_test_adj, columns=unique_features_list)\n",
    "X_test_adj.head(4)"
   ]
  },
  {
   "cell_type": "markdown",
   "id": "8da69cb8-f81b-43ca-8740-bb668922af3e",
   "metadata": {},
   "source": [
    "<hr/>"
   ]
  },
  {
   "cell_type": "markdown",
   "id": "715d7b5d-0e41-4be4-9bf0-c5504d63e0c2",
   "metadata": {},
   "source": [
    "### Embeddings"
   ]
  },
  {
   "cell_type": "markdown",
   "id": "55dedc1e-b97a-40a6-9033-2f24c837084a",
   "metadata": {},
   "source": [
    "##### Global Vectors for Word Representation (GloVe)\n",
    "https://nlp.stanford.edu/projects/glove/"
   ]
  },
  {
   "cell_type": "code",
   "execution_count": 36,
   "id": "08d1f063-79c7-42e6-8d1e-c8f05538813e",
   "metadata": {},
   "outputs": [
    {
     "name": "stdout",
     "output_type": "stream",
     "text": [
      "Found pretrained embeddings vocabulary\n",
      "Size: 400,002\n",
      "Found pretrained embeddings matrix\n",
      "Size: 400,002 words(s) and 100 dimensions(s)\n",
      "* There should be 2 additional vectors to account for 'special_tokens'\n"
     ]
    }
   ],
   "source": [
    "embedding_dim = 100\n",
    "\n",
    "special_tokens = ['<PAD>', '<UNK>'] # keep <PAD> first\n",
    "\n",
    "pretrainedEmbeddingsInfo = PretrainedEmbeddingsInfo(parent_data_dir = 'data')\n",
    "pretrainedEmbeddingsInfo.load(embedding_dim, special_tokens)\n",
    "\n",
    "if not pretrainedEmbeddingsInfo.Vocab is None:\n",
    "    print('Found pretrained embeddings vocabulary')\n",
    "    print('Size: {:,}'.format(len(pretrainedEmbeddingsInfo.Vocab)))\n",
    "else:\n",
    "    print('Missing or invalid pretrained embeddings vocabulary')\n",
    "\n",
    "if not pretrainedEmbeddingsInfo.Embeddings is None:\n",
    "    print('Found pretrained embeddings matrix')\n",
    "    print('Size: {:,} words(s) and {:,} dimensions(s)'.format(pretrainedEmbeddingsInfo.Embeddings.shape[0], pretrainedEmbeddingsInfo.Embeddings.shape[1]))\n",
    "    print('* There should be {:,} additional vectors to account for \\'special_tokens\\''.format(len(special_tokens)))\n",
    "else:\n",
    "    print('Missing or invalid pretrained embeddings matrix')"
   ]
  },
  {
   "cell_type": "markdown",
   "id": "1dbd835e-f02b-4cb8-8a78-348d74746682",
   "metadata": {},
   "source": [
    "<hr/>"
   ]
  },
  {
   "cell_type": "markdown",
   "id": "0dbe3d14-54d9-4eaa-921a-c78f50656eed",
   "metadata": {},
   "source": [
    "### Modeling - Baselines"
   ]
  },
  {
   "cell_type": "code",
   "execution_count": 37,
   "id": "25cb016b-c268-47c0-97c4-9ffd3b953e84",
   "metadata": {},
   "outputs": [],
   "source": [
    "cross_validation = StratifiedKFold(n_splits = 10, shuffle = True, random_state = 100)"
   ]
  },
  {
   "cell_type": "markdown",
   "id": "761c5b52-e7fc-45f1-a9f4-b2c8da9910a2",
   "metadata": {},
   "source": [
    "#### TF-IDF + Logistic Regression with Grid Search (for Hyperparameter Tuning)"
   ]
  },
  {
   "cell_type": "code",
   "execution_count": 170,
   "id": "a590cff9-c477-4475-bb4d-7f70a5331621",
   "metadata": {},
   "outputs": [],
   "source": [
    "def visualize_coefficients(coefficients, feature_names, n_top_features=25):\n",
    "    \"\"\"Visualize coefficients of a linear model.\n",
    "    Parameters\n",
    "    ----------\n",
    "    coefficients : nd-array, shape (n_features,)\n",
    "        Model coefficients.\n",
    "    feature_names : list or nd-array of strings, shape (n_features,)\n",
    "        Feature names for labeling the coefficients.\n",
    "    n_top_features : int, default=25\n",
    "        How many features to show. The function will show the largest (most\n",
    "        positive) and smallest (most negative)  n_top_features coefficients,\n",
    "        for a total of 2 * n_top_features coefficients.\n",
    "    \"\"\"\n",
    "    coefficients = coefficients.squeeze()\n",
    "    if coefficients.ndim > 1:\n",
    "        # this is not a row or column vector\n",
    "        raise ValueError(\"coeffients must be 1d array or column vector, got\"\n",
    "                         \" shape {}\".format(coefficients.shape))\n",
    "    coefficients = coefficients.ravel()\n",
    "\n",
    "    if len(coefficients) != len(feature_names):\n",
    "        raise ValueError(\"Number of coefficients {} doesn't match number of\"\n",
    "                         \"feature names {}.\".format(len(coefficients),\n",
    "                                                    len(feature_names)))\n",
    "    # get coefficients with large absolute values\n",
    "    coef = coefficients.ravel()\n",
    "    positive_coefficients = np.argsort(coef)[-n_top_features:]\n",
    "    negative_coefficients = np.argsort(coef)[:n_top_features]\n",
    "    interesting_coefficients = np.hstack([negative_coefficients,\n",
    "                                          positive_coefficients])\n",
    "    # plot them\n",
    "    plt.figure(figsize=(15, 5))\n",
    "    colors = ['#aa0000' if c < 0 else '#00aa00'\n",
    "              for c in coef[interesting_coefficients]]\n",
    "    plt.bar(np.arange(2 * n_top_features), coef[interesting_coefficients],\n",
    "            color=colors)\n",
    "    feature_names = np.array(feature_names)\n",
    "    plt.subplots_adjust(bottom=0.3)\n",
    "    #plt.xticks(np.arange(1, 1 + 2 * n_top_features),\n",
    "    plt.xticks(np.arange(0, 0 + 2 * n_top_features),\n",
    "               feature_names[interesting_coefficients], rotation=90, #60,\n",
    "               ha=\"right\")\n",
    "    plt.title(\"Top {:,} features [Logistic Regression]\".format(n_top_features))\n",
    "    plt.ylabel(\"Coefficient magnitude\")\n",
    "    plt.xlabel(\"Features\")"
   ]
  },
  {
   "cell_type": "code",
   "execution_count": 171,
   "id": "e5995670-e389-4b33-a2ba-793194fd129d",
   "metadata": {},
   "outputs": [],
   "source": [
    "lr, lr_best_score, lr_best_params_ = get_log_regression_model(X_train_adj, y_train, cross_validation)"
   ]
  },
  {
   "cell_type": "code",
   "execution_count": 172,
   "id": "04387f8d-1079-41a4-a89f-090e8c07c49a",
   "metadata": {},
   "outputs": [
    {
     "name": "stdout",
     "output_type": "stream",
     "text": [
      "Logistic Regression best mean cross-validation score: 0.962\n",
      "Logistic Regression best parameters: {'C': 1, 'fit_intercept': True}\n"
     ]
    }
   ],
   "source": [
    "print(\"Logistic Regression best mean cross-validation score: {:.3f}\".format(lr_best_score))\n",
    "print(\"Logistic Regression best parameters: {}\".format(lr_best_params_))"
   ]
  },
  {
   "cell_type": "code",
   "execution_count": 176,
   "id": "fee3f21e-ea28-4f09-8c0f-663ac99ccd53",
   "metadata": {},
   "outputs": [
    {
     "data": {
      "image/png": "[encoded data removed]",
      "text/plain": [
       "<Figure size 1080x360 with 1 Axes>"
      ]
     },
     "metadata": {
      "needs_background": "light"
     },
     "output_type": "display_data"
    }
   ],
   "source": [
    "#visualize_coefficients(lr.coef_[0], unique_features_list, n_top_features = 15)\n",
    "visualize_coefficients(lr.coef_[0], unique_features_list, n_top_features = 8)"
   ]
  },
  {
   "cell_type": "code",
   "execution_count": 44,
   "id": "ff1f1248-6394-4d1e-859f-f8f5f9c4b4e6",
   "metadata": {},
   "outputs": [
    {
     "name": "stdout",
     "output_type": "stream",
     "text": [
      "precision: 0.9099643347595567 | recall: 0.9099760847283909 | f1: 0.9099625169398579 | support: None\n",
      "accur: 0.9099760847283909\n"
     ]
    }
   ],
   "source": [
    "prec, recall, f1, support = precision_recall_fscore_support(y_train, lr.predict(X_train_adj), average='weighted') # pos_label = 1, average = 'binary', labels=['negative', 'positive']\n",
    "print('precision: {} | recall: {} | f1: {} | support: {}'.format(prec, recall, f1, support))\n",
    "\n",
    "accur = accuracy_score(y_train, lr.predict(X_train_adj))\n",
    "print('accur: {}'.format(accur))"
   ]
  },
  {
   "cell_type": "code",
   "execution_count": 45,
   "id": "7ddeaa2d-a994-47d6-9ca8-dfbc03ff4cab",
   "metadata": {},
   "outputs": [
    {
     "data": {
      "image/png": "[encoded data removed]",
      "text/plain": [
       "<Figure size 432x288 with 1 Axes>"
      ]
     },
     "metadata": {
      "needs_background": "light"
     },
     "output_type": "display_data"
    }
   ],
   "source": [
    "plot_roc_curve(lr, X_train_adj, y_train)\n",
    "plt.show()"
   ]
  },
  {
   "cell_type": "code",
   "execution_count": 46,
   "id": "c5933e0a-4e64-4a48-95e4-8b79132d722b",
   "metadata": {},
   "outputs": [
    {
     "data": {
      "image/png": "[encoded data removed]",
      "text/plain": [
       "<Figure size 432x288 with 2 Axes>"
      ]
     },
     "metadata": {
      "needs_background": "light"
     },
     "output_type": "display_data"
    }
   ],
   "source": [
    "plot_confusion_matrix(lr, X_train_adj, y_train, display_labels=['negative', 'positive'])  \n",
    "plt.show() "
   ]
  },
  {
   "cell_type": "code",
   "execution_count": 47,
   "id": "a8b7e4f6-9b19-4cab-9d3b-3d36dff4e27f",
   "metadata": {},
   "outputs": [
    {
     "data": {
      "image/png": "[encoded data removed]",
      "text/plain": [
       "<Figure size 432x288 with 1 Axes>"
      ]
     },
     "metadata": {
      "needs_background": "light"
     },
     "output_type": "display_data"
    }
   ],
   "source": [
    "plot_roc_curve(lr, X_valid_adj, y_valid)\n",
    "plt.show()"
   ]
  },
  {
   "cell_type": "code",
   "execution_count": 189,
   "id": "6b0aea3f-5288-4f85-a747-aee671c20eeb",
   "metadata": {},
   "outputs": [
    {
     "data": {
      "image/png": "[encoded data removed]",
      "text/plain": [
       "<Figure size 432x288 with 1 Axes>"
      ]
     },
     "metadata": {
      "needs_background": "light"
     },
     "output_type": "display_data"
    }
   ],
   "source": [
    "plot_roc_curve(lr, X_test_adj, y_test)\n",
    "plt.show()"
   ]
  },
  {
   "cell_type": "markdown",
   "id": "e7c78f0c-463c-4b6c-8854-bd9488a25d2f",
   "metadata": {},
   "source": [
    "#### TF-IDF + Random Forest with Grid Search (for Hyperparameter Tuning)"
   ]
  },
  {
   "cell_type": "code",
   "execution_count": 48,
   "id": "78a9fe13-8add-4135-8e58-1604d495af6a",
   "metadata": {},
   "outputs": [],
   "source": [
    "ranForest, ranForest_best_score, ranForest_best_params = get_random_forest_model(X_train_adj, y_train, cross_validation)"
   ]
  },
  {
   "cell_type": "code",
   "execution_count": 49,
   "id": "87e144b4-7496-4b4e-83cd-8d05941ed4f6",
   "metadata": {},
   "outputs": [
    {
     "name": "stdout",
     "output_type": "stream",
     "text": [
      "Random Forest best mean cross-validation score: 0.970\n",
      "Random Forest best parameters: {'max_depth': None, 'n_estimators': 150}\n"
     ]
    }
   ],
   "source": [
    "print(\"Random Forest best mean cross-validation score: {:.3f}\".format(ranForest_best_score))\n",
    "print(\"Random Forest best parameters: {}\".format(ranForest_best_params))"
   ]
  },
  {
   "cell_type": "code",
   "execution_count": 50,
   "id": "4552b1db-bea1-4575-a76b-7071af1268b3",
   "metadata": {},
   "outputs": [
    {
     "name": "stdout",
     "output_type": "stream",
     "text": [
      "precision: 0.9928351584945367 | recall: 0.9928254185172531 | f1: 0.992826108400225 | support: None\n",
      "accur: 0.9928254185172531\n"
     ]
    }
   ],
   "source": [
    "prec, recall, f1, support = precision_recall_fscore_support(y_train, ranForest.predict(X_train_adj), average='weighted') # pos_label = 1, average = 'binary', labels=['negative', 'positive']\n",
    "print('precision: {} | recall: {} | f1: {} | support: {}'.format(prec, recall, f1, support))\n",
    "\n",
    "accur = accuracy_score(y_train, ranForest.predict(X_train_adj))\n",
    "print('accur: {}'.format(accur))"
   ]
  },
  {
   "cell_type": "code",
   "execution_count": 51,
   "id": "0a40022b-f67a-40d1-963b-f88ed82c13d6",
   "metadata": {},
   "outputs": [
    {
     "data": {
      "image/png": "[encoded data removed]",
      "text/plain": [
       "<Figure size 432x288 with 1 Axes>"
      ]
     },
     "metadata": {
      "needs_background": "light"
     },
     "output_type": "display_data"
    }
   ],
   "source": [
    "plot_roc_curve(ranForest, X_train_adj, y_train)\n",
    "plt.show()"
   ]
  },
  {
   "cell_type": "code",
   "execution_count": 52,
   "id": "b92f08ac-f1e0-40f3-a88d-e9b3b3d175db",
   "metadata": {},
   "outputs": [
    {
     "data": {
      "image/png": "[encoded data removed]",
      "text/plain": [
       "<Figure size 432x288 with 2 Axes>"
      ]
     },
     "metadata": {
      "needs_background": "light"
     },
     "output_type": "display_data"
    }
   ],
   "source": [
    "plot_confusion_matrix(ranForest, X_train_adj, y_train, display_labels=['negative', 'positive'])  \n",
    "plt.show() "
   ]
  },
  {
   "cell_type": "code",
   "execution_count": 53,
   "id": "46e493d6-fa85-48a2-a6c3-f47ae08174ee",
   "metadata": {},
   "outputs": [
    {
     "data": {
      "image/png": "[encoded data removed]",
      "text/plain": [
       "<Figure size 432x288 with 1 Axes>"
      ]
     },
     "metadata": {
      "needs_background": "light"
     },
     "output_type": "display_data"
    }
   ],
   "source": [
    "plot_roc_curve(ranForest, X_valid_adj, y_valid)\n",
    "plt.show()"
   ]
  },
  {
   "cell_type": "code",
   "execution_count": 191,
   "id": "374133eb-6b6b-49b6-ab48-69b0f2775e96",
   "metadata": {},
   "outputs": [
    {
     "data": {
      "image/png": "[encoded data removed]",
      "text/plain": [
       "<Figure size 432x288 with 1 Axes>"
      ]
     },
     "metadata": {
      "needs_background": "light"
     },
     "output_type": "display_data"
    }
   ],
   "source": [
    "plot_roc_curve(ranForest, X_test_adj, y_test)\n",
    "plt.show()"
   ]
  },
  {
   "cell_type": "markdown",
   "id": "d937d87f-b30a-4736-a396-6d82ae89386a",
   "metadata": {},
   "source": [
    "#### TF-IDF + XGBoost w/Scikit-Learn Wrapper interface"
   ]
  },
  {
   "cell_type": "markdown",
   "id": "db9b25c8-7c2b-45d6-80f5-d0d96c1186bd",
   "metadata": {},
   "source": [
    "###### https://xgboost.readthedocs.io/en/latest/python/python_api.html#module-xgboost.sklearn"
   ]
  },
  {
   "cell_type": "code",
   "execution_count": 54,
   "id": "91be9f36-7b87-475f-a3f1-8ccab18e4227",
   "metadata": {},
   "outputs": [],
   "source": [
    "xgbClassifier, xgbClassifier_best_score, xgbClassifier_best_params = get_xgboost_model(X_train_adj, y_train, cross_validation)"
   ]
  },
  {
   "cell_type": "code",
   "execution_count": 55,
   "id": "ffd4f942-3643-4672-82e0-02c95d23e235",
   "metadata": {},
   "outputs": [
    {
     "name": "stdout",
     "output_type": "stream",
     "text": [
      "XGBoost best mean cross-validation score: 0.974\n",
      "XGBoost best parameters: {'n_estimators': 150, 'n_jobs': 1, 'use_label_encoder': False, 'verbosity': 0}\n"
     ]
    }
   ],
   "source": [
    "print(\"XGBoost best mean cross-validation score: {:.3f}\".format(xgbClassifier_best_score))\n",
    "print(\"XGBoost best parameters: {}\".format(xgbClassifier_best_params))"
   ]
  },
  {
   "cell_type": "code",
   "execution_count": 56,
   "id": "efd13c9a-83b9-40e4-bd3f-3395b1d3836f",
   "metadata": {},
   "outputs": [
    {
     "name": "stdout",
     "output_type": "stream",
     "text": [
      "precision: 0.9728583394466209 | recall: 0.9728390843867442 | f1: 0.9728423131130736 | support: None\n",
      "accur: 0.9728390843867442\n"
     ]
    }
   ],
   "source": [
    "prec, recall, f1, support = precision_recall_fscore_support(y_train, xgbClassifier.predict(X_train_adj), average='weighted') # pos_label = 1, average = 'binary', labels=['negative', 'positive']\n",
    "print('precision: {} | recall: {} | f1: {} | support: {}'.format(prec, recall, f1, support))\n",
    "\n",
    "accur = accuracy_score(y_train, xgbClassifier.predict(X_train_adj))\n",
    "print('accur: {}'.format(accur))"
   ]
  },
  {
   "cell_type": "code",
   "execution_count": 57,
   "id": "8d696143-48d5-4735-a589-92e5068e434c",
   "metadata": {},
   "outputs": [
    {
     "data": {
      "image/png": "[encoded data removed]",
      "text/plain": [
       "<Figure size 432x288 with 1 Axes>"
      ]
     },
     "metadata": {
      "needs_background": "light"
     },
     "output_type": "display_data"
    }
   ],
   "source": [
    "plot_roc_curve(xgbClassifier, X_train_adj, y_train)\n",
    "plt.show()"
   ]
  },
  {
   "cell_type": "code",
   "execution_count": 58,
   "id": "75838429-6e1a-4b04-990c-9f55a671f16f",
   "metadata": {},
   "outputs": [
    {
     "data": {
      "image/png": "[encoded data removed]",
      "text/plain": [
       "<Figure size 432x288 with 2 Axes>"
      ]
     },
     "metadata": {
      "needs_background": "light"
     },
     "output_type": "display_data"
    }
   ],
   "source": [
    "plot_confusion_matrix(xgbClassifier, X_train_adj, y_train, display_labels=['negative', 'positive'])  \n",
    "plt.show()"
   ]
  },
  {
   "cell_type": "code",
   "execution_count": 59,
   "id": "3044c93b-aabc-4a8a-af20-6af56403384e",
   "metadata": {},
   "outputs": [
    {
     "data": {
      "image/png": "[encoded data removed]",
      "text/plain": [
       "<Figure size 432x288 with 1 Axes>"
      ]
     },
     "metadata": {
      "needs_background": "light"
     },
     "output_type": "display_data"
    }
   ],
   "source": [
    "plot_roc_curve(xgbClassifier, X_valid_adj, y_valid)\n",
    "plt.show()"
   ]
  },
  {
   "cell_type": "code",
   "execution_count": 192,
   "id": "0ec6cff3-5947-4c93-bd10-e0561875a45a",
   "metadata": {},
   "outputs": [
    {
     "data": {
      "image/png": "[encoded data removed]",
      "text/plain": [
       "<Figure size 432x288 with 1 Axes>"
      ]
     },
     "metadata": {
      "needs_background": "light"
     },
     "output_type": "display_data"
    }
   ],
   "source": [
    "plot_roc_curve(xgbClassifier, X_test_adj, y_test)\n",
    "plt.show()"
   ]
  },
  {
   "cell_type": "markdown",
   "id": "797da2de-476d-4786-8f55-fc418becd84e",
   "metadata": {},
   "source": [
    "#### Convolutional Neural Network (CNN) - PyTorch"
   ]
  },
  {
   "cell_type": "markdown",
   "id": "67d1f1cd-e6ac-4d7a-b3a3-e7a615ac0fcf",
   "metadata": {},
   "source": [
    "##### Grid Search"
   ]
  },
  {
   "cell_type": "code",
   "execution_count": 72,
   "id": "e04d8e09-1944-4394-8a37-682fdb8e9b3f",
   "metadata": {
    "tags": []
   },
   "outputs": [],
   "source": [
    "# %%time\n",
    "\n",
    "# epochs = 10 #40 #10\n",
    "# batch_size = 50\n",
    "\n",
    "# # developer_params_grid_search = {\n",
    "# #     'optimizer_type': ['RMSprop'], #['RMSprop', 'Adam', 'SGD'],\n",
    "# #     'use_scheduler': [True], #, False],\n",
    "# #     'learning_rate': [0.001, 0.01], #[0.001, 0.01, 0.1],\n",
    "# #     'l2_penalty': [0],\n",
    "# #     'amsgrad': [False],\n",
    "# #     'beta_1': [0.05, 0.1, 0.5], #[0.01, 0.05, 0.1, 0.5],\n",
    "# #     'beta_2': [0.55], #[0.1, 0.5, 0.55],\n",
    "# #     'decay_rate': [0.01, 0.05],\n",
    "# #     'alpha/rho': [ 0.9], #[0.1, 0.5, 0.90],\n",
    "# #     'momentum': [0.0],\n",
    "# #     'centered': [False]\n",
    "# # }\n",
    "\n",
    "# developer_params_grid_search = {\n",
    "#     'optimizer_type': ['RMSprop'],\n",
    "#     'use_scheduler': [True],\n",
    "#     'learning_rate': [0.001],\n",
    "#     'l2_penalty': [0],\n",
    "#     'amsgrad': [False],\n",
    "#     'beta_1': [0.1],\n",
    "#     'beta_2': [0.55],\n",
    "#     'decay_rate': [0.05],\n",
    "#     'alpha/rho': [0.9],\n",
    "#     'momentum': [0.0],\n",
    "#     'centered': [False]\n",
    "# }\n",
    "\n",
    "# results_list = get_trained_classifier_grid_search(\n",
    "#     embed_object = pretrainedEmbeddingsInfo,\n",
    "#     target_text_column = target_text_factor,\n",
    "#     X_train = X_train,\n",
    "#     y_train = y_train,\n",
    "#     X_valid = X_valid,\n",
    "#     y_valid = y_valid,\n",
    "#     X_test = X_test,\n",
    "#     y_test = y_test,\n",
    "#     epochs = epochs,\n",
    "#     max_sequence_length = max_sequence_length,\n",
    "#     test_size = validation_size,\n",
    "#     batch_size = batch_size,\n",
    "#     developer_params_grid_search = developer_params_grid_search,\n",
    "#     stop_words = preprocessor.get_stop_words()\n",
    "# )"
   ]
  },
  {
   "cell_type": "code",
   "execution_count": 73,
   "id": "8e5eb41f-0d4b-4dbd-8af4-fc46e4e9dd56",
   "metadata": {},
   "outputs": [],
   "source": [
    "#results_list[0]"
   ]
  },
  {
   "cell_type": "code",
   "execution_count": 74,
   "id": "b0e095da-1b3a-4c95-acb4-193d0ac6f91d",
   "metadata": {},
   "outputs": [],
   "source": [
    "# result_dict = results_list[0][1] # tuple(0 = validation_accuracy, 1 = dict of model details)\n",
    "\n",
    "# classifier = result_dict['classifier']\n",
    "# epoch_curve = result_dict['epoch_curve']\n",
    "# training_loss_curve = result_dict['training_loss_curve']\n",
    "# validation_loss_curve = result_dict['validation_loss_curve']\n",
    "# training_accuracy = result_dict['training_accuracy']\n",
    "# validation_accuracy = result_dict['validation_accuracy']\n",
    "# testing_accuracy = result_dict['testing_accuracy']\n",
    "# model_and_training_params = result_dict['developer_params']\n",
    "\n",
    "# print('Training Accuracy: {:3.5}'.format(training_accuracy))\n",
    "# print('Validation Accuracy: {:3.5}'.format(validation_accuracy))\n",
    "# print('Testing Accuracy: {:3.5}'.format(testing_accuracy))\n",
    "# print('Model and Training Parameters: {}'.format(model_and_training_params))"
   ]
  },
  {
   "cell_type": "code",
   "execution_count": 75,
   "id": "1947f34b-0098-402e-8f7f-e098715ba058",
   "metadata": {},
   "outputs": [],
   "source": [
    "# learning_loss_curve(x = epoch_curve, series1 = training_loss_curve, series2 = validation_loss_curve, caption = ' (CNN PyTorch)')"
   ]
  },
  {
   "cell_type": "code",
   "execution_count": 66,
   "id": "ce2e1ae4-b78e-4386-b50c-bc553059fa28",
   "metadata": {},
   "outputs": [],
   "source": [
    "epochs = 10 #30 (92%)\n",
    "batch_size = 50\n",
    "\n",
    "developer_params = {\n",
    "    'optimizer_type': 'RMSprop', #'Adam',\n",
    "    'use_scheduler': True, #False,\n",
    "    'learning_rate': 0.001,\n",
    "    'l2_penalty': 0,\n",
    "    'amsgrad': False,\n",
    "    'beta_1': 0.1,\n",
    "    'beta_2': 0.55,\n",
    "    'decay_rate': 0.05,\n",
    "    'alpha/rho': 0.9,\n",
    "    'momentum': 0.0,\n",
    "    'centered': False\n",
    "}"
   ]
  },
  {
   "cell_type": "code",
   "execution_count": 67,
   "id": "07e683c0-e629-4521-abc3-2a1cebf9b59d",
   "metadata": {
    "tags": []
   },
   "outputs": [
    {
     "name": "stderr",
     "output_type": "stream",
     "text": [
      " 89%|████████████████████████████████████▍    | 105/118 [00:21<00:04,  3.01it/s]"
     ]
    },
    {
     "name": "stdout",
     "output_type": "stream",
     "text": [
      "Epoch: 1 of 10 | Step: 105 | Loss: 0.2388 | Loss (Validation): 0.2567\n",
      "Current: 0.256720 | Best: 2.000000\n",
      "Checkpoint saved to: models_training/checkpoint_v1_0_0.step105.tar\n",
      "New best model saved to: models_training/best_v1_0_0.tar\n",
      "Best model path: models_training/best_v1_0_0.tar\n"
     ]
    },
    {
     "name": "stderr",
     "output_type": "stream",
     "text": [
      "100%|█████████████████████████████████████████| 118/118 [00:23<00:00,  4.96it/s]\n",
      " 89%|████████████████████████████████████▍    | 105/118 [00:20<00:04,  3.01it/s]"
     ]
    },
    {
     "name": "stdout",
     "output_type": "stream",
     "text": [
      "Epoch: 2 of 10 | Step: 105 | Loss: 0.2980 | Loss (Validation): 0.1671\n",
      "Current: 0.167147 | Best: 0.256720\n",
      "Checkpoint saved to: models_training/checkpoint_v1_0_0.step105.tar\n",
      "New best model saved to: models_training/best_v1_0_0.tar\n",
      "Best model path: models_training/best_v1_0_0.tar\n"
     ]
    },
    {
     "name": "stderr",
     "output_type": "stream",
     "text": [
      "100%|█████████████████████████████████████████| 118/118 [00:23<00:00,  5.03it/s]\n",
      " 89%|████████████████████████████████████▍    | 105/118 [00:20<00:04,  3.05it/s]"
     ]
    },
    {
     "name": "stdout",
     "output_type": "stream",
     "text": [
      "Epoch: 3 of 10 | Step: 105 | Loss: 0.0522 | Loss (Validation): 0.1343\n",
      "Current: 0.134253 | Best: 0.167147\n",
      "Checkpoint saved to: models_training/checkpoint_v1_0_0.step105.tar\n",
      "New best model saved to: models_training/best_v1_0_0.tar\n",
      "Best model path: models_training/best_v1_0_0.tar\n"
     ]
    },
    {
     "name": "stderr",
     "output_type": "stream",
     "text": [
      "100%|█████████████████████████████████████████| 118/118 [00:23<00:00,  5.04it/s]\n",
      " 89%|████████████████████████████████████▍    | 105/118 [00:20<00:04,  3.04it/s]"
     ]
    },
    {
     "name": "stdout",
     "output_type": "stream",
     "text": [
      "Epoch: 4 of 10 | Step: 105 | Loss: 0.0488 | Loss (Validation): 0.1174\n",
      "Current: 0.117375 | Best: 0.134253\n",
      "Checkpoint saved to: models_training/checkpoint_v1_0_0.step105.tar\n",
      "New best model saved to: models_training/best_v1_0_0.tar\n",
      "Best model path: models_training/best_v1_0_0.tar\n"
     ]
    },
    {
     "name": "stderr",
     "output_type": "stream",
     "text": [
      "100%|█████████████████████████████████████████| 118/118 [00:23<00:00,  5.05it/s]\n",
      " 89%|████████████████████████████████████▍    | 105/118 [00:20<00:04,  3.06it/s]"
     ]
    },
    {
     "name": "stdout",
     "output_type": "stream",
     "text": [
      "Epoch: 5 of 10 | Step: 105 | Loss: 0.0525 | Loss (Validation): 0.1088\n",
      "Current: 0.108799 | Best: 0.117375\n",
      "Checkpoint saved to: models_training/checkpoint_v1_0_0.step105.tar\n",
      "New best model saved to: models_training/best_v1_0_0.tar\n",
      "Best model path: models_training/best_v1_0_0.tar\n"
     ]
    },
    {
     "name": "stderr",
     "output_type": "stream",
     "text": [
      "100%|█████████████████████████████████████████| 118/118 [00:23<00:00,  5.07it/s]\n",
      " 89%|████████████████████████████████████▍    | 105/118 [00:20<00:04,  3.01it/s]"
     ]
    },
    {
     "name": "stdout",
     "output_type": "stream",
     "text": [
      "Epoch: 6 of 10 | Step: 105 | Loss: 0.0683 | Loss (Validation): 0.1067\n",
      "Current: 0.106718 | Best: 0.108799\n",
      "Checkpoint saved to: models_training/checkpoint_v1_0_0.step105.tar\n",
      "New best model saved to: models_training/best_v1_0_0.tar\n",
      "Best model path: models_training/best_v1_0_0.tar\n"
     ]
    },
    {
     "name": "stderr",
     "output_type": "stream",
     "text": [
      "100%|█████████████████████████████████████████| 118/118 [00:23<00:00,  5.03it/s]\n",
      " 89%|████████████████████████████████████▍    | 105/118 [00:42<00:04,  3.08it/s]"
     ]
    },
    {
     "name": "stdout",
     "output_type": "stream",
     "text": [
      "Epoch: 7 of 10 | Step: 105 | Loss: 0.0625 | Loss (Validation): 0.1076\n",
      "Current: 0.107627 | Best: 0.106718\n",
      "Checkpoint saved to: models_training/checkpoint_v1_0_0.step105.tar\n",
      "Best model path: models_training/best_v1_0_0.tar\n"
     ]
    },
    {
     "name": "stderr",
     "output_type": "stream",
     "text": [
      "100%|█████████████████████████████████████████| 118/118 [02:48<00:00,  1.43s/it]\n",
      " 89%|████████████████████████████████████▍    | 105/118 [00:21<00:04,  3.04it/s]"
     ]
    },
    {
     "name": "stdout",
     "output_type": "stream",
     "text": [
      "Epoch: 8 of 10 | Step: 105 | Loss: 0.0281 | Loss (Validation): 0.1003\n",
      "Current: 0.100329 | Best: 0.106718\n",
      "Checkpoint saved to: models_training/checkpoint_v1_0_0.step105.tar\n",
      "New best model saved to: models_training/best_v1_0_0.tar\n",
      "Best model path: models_training/best_v1_0_0.tar\n"
     ]
    },
    {
     "name": "stderr",
     "output_type": "stream",
     "text": [
      "100%|█████████████████████████████████████████| 118/118 [00:23<00:00,  4.98it/s]\n",
      " 89%|████████████████████████████████████▍    | 105/118 [00:21<00:04,  3.10it/s]"
     ]
    },
    {
     "name": "stdout",
     "output_type": "stream",
     "text": [
      "Epoch: 9 of 10 | Step: 105 | Loss: 0.0209 | Loss (Validation): 0.1195\n",
      "Current: 0.119508 | Best: 0.100329\n",
      "Checkpoint saved to: models_training/checkpoint_v1_0_0.step105.tar\n",
      "Best model path: models_training/best_v1_0_0.tar\n"
     ]
    },
    {
     "name": "stderr",
     "output_type": "stream",
     "text": [
      "100%|█████████████████████████████████████████| 118/118 [00:23<00:00,  5.02it/s]\n",
      " 89%|████████████████████████████████████▍    | 105/118 [00:21<00:04,  3.12it/s]"
     ]
    },
    {
     "name": "stdout",
     "output_type": "stream",
     "text": [
      "Epoch: 10 of 10 | Step: 105 | Loss: 0.0086 | Loss (Validation): 0.1183\n",
      "Current: 0.118301 | Best: 0.100329\n",
      "Checkpoint saved to: models_training/checkpoint_v1_0_0.step105.tar\n",
      "Best model path: models_training/best_v1_0_0.tar\n"
     ]
    },
    {
     "name": "stderr",
     "output_type": "stream",
     "text": [
      "100%|█████████████████████████████████████████| 118/118 [00:23<00:00,  5.01it/s]\n"
     ]
    }
   ],
   "source": [
    "classifier, epoch_curve, training_loss_curve, validation_loss_curve = get_trained_classifier(\n",
    "    pretrainedEmbeddingsInfo,\n",
    "    target_text_factor,\n",
    "    X_train,\n",
    "    y_train,\n",
    "    X_valid,\n",
    "    y_valid,\n",
    "    epochs,\n",
    "    max_sequence_length,\n",
    "    test_size = validation_size,\n",
    "    batch_size = batch_size,\n",
    "    developer_params = developer_params,\n",
    "    stop_words = preprocessor.get_stop_words()\n",
    ")"
   ]
  },
  {
   "cell_type": "code",
   "execution_count": 76,
   "id": "12da353d-cbb4-490b-868f-81a12757b341",
   "metadata": {},
   "outputs": [
    {
     "data": {
      "image/png": "[encoded data removed]",
      "text/plain": [
       "<Figure size 432x288 with 1 Axes>"
      ]
     },
     "metadata": {
      "needs_background": "light"
     },
     "output_type": "display_data"
    }
   ],
   "source": [
    "learning_loss_curve(x = epoch_curve, series1 = training_loss_curve, series2 = validation_loss_curve, caption = ' (CNN PyTorch)')"
   ]
  },
  {
   "cell_type": "code",
   "execution_count": 77,
   "id": "eb78f59c-79c1-40e5-b623-853bb5224838",
   "metadata": {},
   "outputs": [
    {
     "name": "stdout",
     "output_type": "stream",
     "text": [
      "precision: 0.9981210326620065 | recall: 0.9981209429449949 | f1: 0.9981209586092582 | support: None\n",
      "accur: 0.9981209429449949\n"
     ]
    }
   ],
   "source": [
    "classifier_results = classifier.predict_multiple(X_train[target_text_factor].values)\n",
    "prec, recall, f1, support = precision_recall_fscore_support(y_train, classifier_results, average='weighted') # pos_label = 1, average = 'binary', labels=['negative', 'positive']\n",
    "print('precision: {} | recall: {} | f1: {} | support: {}'.format(prec, recall, f1, support))\n",
    "\n",
    "accur = accuracy_score(y_train, classifier_results)\n",
    "print('accur: {}'.format(accur))"
   ]
  },
  {
   "cell_type": "code",
   "execution_count": 78,
   "id": "ea354555-fe31-4134-aedc-d9b485394a48",
   "metadata": {},
   "outputs": [],
   "source": [
    "classifier_results = classifier.predict_multiple(X_test[target_text_factor].values)"
   ]
  },
  {
   "cell_type": "code",
   "execution_count": 79,
   "id": "be05330a-2d4c-4d91-80db-13182b022569",
   "metadata": {},
   "outputs": [
    {
     "name": "stdout",
     "output_type": "stream",
     "text": [
      "precision: 0.9610723136947834 | recall: 0.9610705596107056 | f1: 0.9610677904088 | support: None\n",
      "accur: 0.9610705596107056\n"
     ]
    }
   ],
   "source": [
    "prec, recall, f1, support = precision_recall_fscore_support(y_test, classifier_results, average='weighted') # pos_label = 1, average = 'binary', labels=['negative', 'positive']\n",
    "print('precision: {} | recall: {} | f1: {} | support: {}'.format(prec, recall, f1, support))\n",
    "\n",
    "accur = accuracy_score(y_test, classifier_results)\n",
    "print('accur: {}'.format(accur))"
   ]
  },
  {
   "cell_type": "markdown",
   "id": "453e4366-9664-4613-9c10-b8de1df9632a",
   "metadata": {},
   "source": [
    "#### Bi-LSTM"
   ]
  },
  {
   "cell_type": "code",
   "execution_count": 96,
   "id": "add3941c-c778-4881-8481-145eeeecbf73",
   "metadata": {},
   "outputs": [],
   "source": [
    "developer_params_bilstm = {\n",
    "    'optimizer_type': 'RMSprop', #'Adam',\n",
    "    'use_scheduler': True, #False,\n",
    "    'learning_rate': 0.001,\n",
    "    'l2_penalty': 0,\n",
    "    'amsgrad': False,\n",
    "    'beta_1': 0.1,\n",
    "    'beta_2': 0.55,\n",
    "    'decay_rate': 0.05,\n",
    "    'alpha/rho': 0.9,\n",
    "    'momentum': 0.0,\n",
    "    'centered': False\n",
    "}"
   ]
  },
  {
   "cell_type": "code",
   "execution_count": 97,
   "id": "77d6afc6-4f70-4ae7-ac80-179a20ed4b90",
   "metadata": {
    "tags": []
   },
   "outputs": [
    {
     "name": "stderr",
     "output_type": "stream",
     "text": [
      " 89%|████████████████████████████████████▍    | 105/118 [00:27<00:06,  2.06it/s]"
     ]
    },
    {
     "name": "stdout",
     "output_type": "stream",
     "text": [
      "Epoch: 1 of 10 | Step: 105 | Loss: 0.3561 | Loss (Validation): 0.2620\n",
      "Current: 0.261969 | Best: 2.000000\n",
      "Checkpoint saved to: models_training/checkpoint_v1_0_0.step105.tar\n",
      "New best model saved to: models_training/best_v1_0_0.tar\n",
      "Best model path: models_training/best_v1_0_0.tar\n"
     ]
    },
    {
     "name": "stderr",
     "output_type": "stream",
     "text": [
      "100%|█████████████████████████████████████████| 118/118 [00:30<00:00,  3.81it/s]\n",
      " 89%|████████████████████████████████████▍    | 105/118 [00:27<00:06,  2.04it/s]"
     ]
    },
    {
     "name": "stdout",
     "output_type": "stream",
     "text": [
      "Epoch: 2 of 10 | Step: 105 | Loss: 0.1795 | Loss (Validation): 0.2046\n",
      "Current: 0.204561 | Best: 0.261969\n",
      "Checkpoint saved to: models_training/checkpoint_v1_0_0.step105.tar\n",
      "New best model saved to: models_training/best_v1_0_0.tar\n",
      "Best model path: models_training/best_v1_0_0.tar\n"
     ]
    },
    {
     "name": "stderr",
     "output_type": "stream",
     "text": [
      "100%|█████████████████████████████████████████| 118/118 [00:30<00:00,  3.81it/s]\n",
      " 89%|████████████████████████████████████▍    | 105/118 [00:27<00:06,  2.07it/s]"
     ]
    },
    {
     "name": "stdout",
     "output_type": "stream",
     "text": [
      "Epoch: 3 of 10 | Step: 105 | Loss: 0.0756 | Loss (Validation): 0.1458\n",
      "Current: 0.145847 | Best: 0.204561\n",
      "Checkpoint saved to: models_training/checkpoint_v1_0_0.step105.tar\n",
      "New best model saved to: models_training/best_v1_0_0.tar\n",
      "Best model path: models_training/best_v1_0_0.tar\n"
     ]
    },
    {
     "name": "stderr",
     "output_type": "stream",
     "text": [
      "100%|█████████████████████████████████████████| 118/118 [00:31<00:00,  3.78it/s]\n",
      " 89%|████████████████████████████████████▍    | 105/118 [00:27<00:06,  2.08it/s]"
     ]
    },
    {
     "name": "stdout",
     "output_type": "stream",
     "text": [
      "Epoch: 4 of 10 | Step: 105 | Loss: 0.0821 | Loss (Validation): 0.1211\n",
      "Current: 0.121139 | Best: 0.145847\n",
      "Checkpoint saved to: models_training/checkpoint_v1_0_0.step105.tar\n",
      "New best model saved to: models_training/best_v1_0_0.tar\n",
      "Best model path: models_training/best_v1_0_0.tar\n"
     ]
    },
    {
     "name": "stderr",
     "output_type": "stream",
     "text": [
      "100%|█████████████████████████████████████████| 118/118 [00:31<00:00,  3.79it/s]\n",
      " 89%|████████████████████████████████████▍    | 105/118 [00:27<00:06,  2.05it/s]"
     ]
    },
    {
     "name": "stdout",
     "output_type": "stream",
     "text": [
      "Epoch: 5 of 10 | Step: 105 | Loss: 0.2033 | Loss (Validation): 0.1072\n",
      "Current: 0.107212 | Best: 0.121139\n",
      "Checkpoint saved to: models_training/checkpoint_v1_0_0.step105.tar\n",
      "New best model saved to: models_training/best_v1_0_0.tar\n",
      "Best model path: models_training/best_v1_0_0.tar\n"
     ]
    },
    {
     "name": "stderr",
     "output_type": "stream",
     "text": [
      "100%|█████████████████████████████████████████| 118/118 [00:31<00:00,  3.78it/s]\n",
      " 89%|████████████████████████████████████▍    | 105/118 [00:27<00:06,  2.11it/s]"
     ]
    },
    {
     "name": "stdout",
     "output_type": "stream",
     "text": [
      "Epoch: 6 of 10 | Step: 105 | Loss: 0.0168 | Loss (Validation): 0.1263\n",
      "Current: 0.126275 | Best: 0.107212\n",
      "Checkpoint saved to: models_training/checkpoint_v1_0_0.step105.tar\n",
      "Best model path: models_training/best_v1_0_0.tar\n"
     ]
    },
    {
     "name": "stderr",
     "output_type": "stream",
     "text": [
      "100%|█████████████████████████████████████████| 118/118 [00:31<00:00,  3.78it/s]\n",
      " 89%|████████████████████████████████████▍    | 105/118 [00:27<00:06,  2.10it/s]"
     ]
    },
    {
     "name": "stdout",
     "output_type": "stream",
     "text": [
      "Epoch: 7 of 10 | Step: 105 | Loss: 0.0295 | Loss (Validation): 0.1653\n",
      "Current: 0.165333 | Best: 0.107212\n",
      "Checkpoint saved to: models_training/checkpoint_v1_0_0.step105.tar\n",
      "Best model path: models_training/best_v1_0_0.tar\n"
     ]
    },
    {
     "name": "stderr",
     "output_type": "stream",
     "text": [
      "100%|█████████████████████████████████████████| 118/118 [00:31<00:00,  3.80it/s]\n",
      " 89%|████████████████████████████████████▍    | 105/118 [00:28<00:06,  2.08it/s]"
     ]
    },
    {
     "name": "stdout",
     "output_type": "stream",
     "text": [
      "Epoch: 8 of 10 | Step: 105 | Loss: 0.0211 | Loss (Validation): 0.1379\n",
      "Current: 0.137860 | Best: 0.107212\n",
      "Checkpoint saved to: models_training/checkpoint_v1_0_0.step105.tar\n",
      "Best model path: models_training/best_v1_0_0.tar\n"
     ]
    },
    {
     "name": "stderr",
     "output_type": "stream",
     "text": [
      "100%|█████████████████████████████████████████| 118/118 [00:31<00:00,  3.75it/s]\n",
      " 89%|████████████████████████████████████▍    | 105/118 [00:28<00:06,  2.06it/s]"
     ]
    },
    {
     "name": "stdout",
     "output_type": "stream",
     "text": [
      "Epoch: 9 of 10 | Step: 105 | Loss: 0.0071 | Loss (Validation): 0.1447\n",
      "Current: 0.144683 | Best: 0.107212\n",
      "Checkpoint saved to: models_training/checkpoint_v1_0_0.step105.tar\n",
      "Best model path: models_training/best_v1_0_0.tar\n"
     ]
    },
    {
     "name": "stderr",
     "output_type": "stream",
     "text": [
      "100%|█████████████████████████████████████████| 118/118 [00:31<00:00,  3.71it/s]\n",
      " 89%|████████████████████████████████████▍    | 105/118 [00:28<00:06,  2.11it/s]"
     ]
    },
    {
     "name": "stdout",
     "output_type": "stream",
     "text": [
      "Epoch: 10 of 10 | Step: 105 | Loss: 0.0041 | Loss (Validation): 0.1638\n",
      "Current: 0.163845 | Best: 0.107212\n",
      "Checkpoint saved to: models_training/checkpoint_v1_0_0.step105.tar\n",
      "Best model path: models_training/best_v1_0_0.tar\n"
     ]
    },
    {
     "name": "stderr",
     "output_type": "stream",
     "text": [
      "100%|█████████████████████████████████████████| 118/118 [00:31<00:00,  3.77it/s]\n"
     ]
    }
   ],
   "source": [
    "bilstm_classifier, epoch_curve, training_loss_curve, validation_loss_curve = get_trained_bilstm_classifier(\n",
    "    pretrainedEmbeddingsInfo,\n",
    "    target_text_factor,\n",
    "    X_train,\n",
    "    y_train,\n",
    "    X_valid,\n",
    "    y_valid,\n",
    "    epochs,\n",
    "    max_sequence_length,\n",
    "    test_size = validation_size,\n",
    "    batch_size = batch_size,\n",
    "    hidden_size = 128,\n",
    "    developer_params = developer_params_bilstm,\n",
    "    stop_words = preprocessor.get_stop_words()\n",
    ")"
   ]
  },
  {
   "cell_type": "code",
   "execution_count": 98,
   "id": "2690d316-cb24-476f-b643-0f22e74a91bd",
   "metadata": {},
   "outputs": [
    {
     "data": {
      "image/png": "[encoded data removed]",
      "text/plain": [
       "<Figure size 432x288 with 1 Axes>"
      ]
     },
     "metadata": {
      "needs_background": "light"
     },
     "output_type": "display_data"
    }
   ],
   "source": [
    "learning_loss_curve(x = epoch_curve, series1 = training_loss_curve, series2 = validation_loss_curve, caption = ' (BiLSTM PyTorch)')"
   ]
  },
  {
   "cell_type": "code",
   "execution_count": 99,
   "id": "106c444b-bd28-4a9e-b285-43907882403c",
   "metadata": {
    "tags": []
   },
   "outputs": [
    {
     "name": "stdout",
     "output_type": "stream",
     "text": [
      "precision: 0.9845488501698424 | recall: 0.9844550734540485 | f1: 0.9844486358909493 | support: None\n",
      "accur: 0.9844550734540485\n"
     ]
    }
   ],
   "source": [
    "bilstm_classifier_results = bilstm_classifier.predict_multiple(X_train[target_text_factor].values, verbose = True)\n",
    "prec, recall, f1, support = precision_recall_fscore_support(y_train, bilstm_classifier_results, average='weighted') # pos_label = 1, average = 'binary', labels=['negative', 'positive']\n",
    "print('precision: {} | recall: {} | f1: {} | support: {}'.format(prec, recall, f1, support))\n",
    "\n",
    "accur = accuracy_score(y_train, bilstm_classifier_results)\n",
    "print('accur: {}'.format(accur))"
   ]
  },
  {
   "cell_type": "code",
   "execution_count": 100,
   "id": "49a1a765-af9a-40c7-8e6d-bf7c6b498515",
   "metadata": {},
   "outputs": [
    {
     "name": "stdout",
     "output_type": "stream",
     "text": [
      "precision: 0.9516752332948298 | recall: 0.9513381995133819 | f1: 0.9513032003642425 | support: None\n",
      "accur: 0.9513381995133819\n"
     ]
    }
   ],
   "source": [
    "bilstm_classifier_results = bilstm_classifier.predict_multiple(X_test[target_text_factor].values, verbose = True)\n",
    "prec, recall, f1, support = precision_recall_fscore_support(y_test, bilstm_classifier_results, average='weighted') # pos_label = 1, average = 'binary', labels=['negative', 'positive']\n",
    "print('precision: {} | recall: {} | f1: {} | support: {}'.format(prec, recall, f1, support))\n",
    "\n",
    "accur = accuracy_score(y_test, bilstm_classifier_results)\n",
    "print('accur: {}'.format(accur))"
   ]
  },
  {
   "cell_type": "markdown",
   "id": "02659e7c-713f-4eaf-8418-ae4383eb62d9",
   "metadata": {},
   "source": [
    "#### BERT"
   ]
  },
  {
   "cell_type": "code",
   "execution_count": 101,
   "id": "50c08510-0c54-45c2-9e70-7d35be25c71b",
   "metadata": {},
   "outputs": [],
   "source": [
    "developer_params_bert = {\n",
    "    'optimizer_type': 'RMSprop', #'Adam',\n",
    "    'use_scheduler': True, #False,\n",
    "    'learning_rate': 0.001,\n",
    "    'l2_penalty': 0,\n",
    "    'amsgrad': False,\n",
    "    'beta_1': 0.1,\n",
    "    'beta_2': 0.55,\n",
    "    'decay_rate': 0.05,\n",
    "    'alpha/rho': 0.9,\n",
    "    'momentum': 0.0,\n",
    "    'centered': False\n",
    "}\n",
    "\n",
    "# bert_weights_name = 'bert-base-uncased' #'bert-base-cased'\n",
    "\n",
    "# bert_classifier, bert_tokenizer, epoch_curve, training_loss_curve, validation_loss_curve = get_trained_bert_classifier(\n",
    "#     target_text_column = target_text_factor,\n",
    "#     X_train = X_train, #.iloc[0:100],\n",
    "#     y_train = y_train, #.iloc[0:100],\n",
    "#     X_valid = X_valid, #.iloc[0:100],\n",
    "#     y_valid = y_valid, #.iloc[0:100],\n",
    "#     epochs = epochs,\n",
    "#     max_sequence_length = max_sequence_length,\n",
    "#     batch_size = batch_size,\n",
    "#     developer_params = developer_params_bert,\n",
    "#     bert_weights_name = bert_weights_name\n",
    "# )"
   ]
  },
  {
   "cell_type": "code",
   "execution_count": 102,
   "id": "1af8c096-b20c-47eb-a071-42427b749c91",
   "metadata": {},
   "outputs": [],
   "source": [
    "# X_test_bert_ds = BertMisinfoDataset(\n",
    "#     tokenizer = bert_tokenizer,\n",
    "#     data_X_df = X_test,\n",
    "#     data_y_df = y_test,\n",
    "#     target_text_factor = target_text_factor,\n",
    "#     max_sequence_length = max_sequence_length\n",
    "# )"
   ]
  },
  {
   "cell_type": "code",
   "execution_count": 103,
   "id": "de8548e0-75a3-411e-9424-eb0a59c5e973",
   "metadata": {},
   "outputs": [],
   "source": [
    "# bert_classifier_results = bert_classifier.predict_multiple(X_test[target_text_factor].values) #iloc[0:100]"
   ]
  },
  {
   "cell_type": "markdown",
   "id": "ce69d967-a932-4ecc-916e-b15166b7d8a7",
   "metadata": {},
   "source": [
    "#### RoBERTa"
   ]
  },
  {
   "cell_type": "code",
   "execution_count": null,
   "id": "6a6655d9-8e75-44a4-b355-394e0ce3991a",
   "metadata": {},
   "outputs": [],
   "source": [
    "epochs_roberta = 3 #10\n",
    "batch_size_roberta = 50\n",
    "\n",
    "developer_params_roberta = {\n",
    "    'optimizer_type': 'RMSprop', #'Adam',\n",
    "    'use_scheduler': True, #False,\n",
    "    'learning_rate': 0.001,\n",
    "    'l2_penalty': 0,\n",
    "    'amsgrad': False,\n",
    "    'beta_1': 0.1,\n",
    "    'beta_2': 0.55,\n",
    "    'decay_rate': 0.05,\n",
    "    'alpha/rho': 0.9,\n",
    "    'momentum': 0.0,\n",
    "    'centered': False\n",
    "}\n",
    "\n",
    "roberta_weights_name = 'roberta-base'\n",
    "\n",
    "X_train_sample = X_train.sample(n = 1500, random_state = 1111)\n",
    "y_train_sample = y_train[X_train_sample.index]\n",
    "\n",
    "X_valid_sample = X_valid.sample(n = 300, random_state = 1234)\n",
    "y_valid_sample = y_valid[X_valid_sample.index]\n",
    "\n",
    "roberta_classifier, roberta_tokenizer, epoch_curve, training_loss_curve, validation_loss_curve = get_trained_roberta_classifier(\n",
    "    target_text_factor = target_text_factor,\n",
    "    X_train = X_train_sample,\n",
    "    y_train = y_train_sample,\n",
    "    X_valid = X_valid_sample,\n",
    "    y_valid = y_valid_sample,\n",
    "    epochs = epochs_roberta,\n",
    "    max_sequence_length = max_sequence_length,\n",
    "    batch_size = batch_size_roberta,\n",
    "    developer_params = developer_params_roberta,\n",
    "    bert_weights_name= roberta_weights_name\n",
    ")"
   ]
  },
  {
   "cell_type": "markdown",
   "id": "71048402-27a1-40df-91aa-f7bc52f5145a",
   "metadata": {},
   "source": [
    "<hr/>"
   ]
  },
  {
   "cell_type": "markdown",
   "id": "38c20d19-3fb4-497e-8410-f6e76ccd83f6",
   "metadata": {},
   "source": [
    "### Performance and Assessment"
   ]
  },
  {
   "cell_type": "markdown",
   "id": "f2a5317a-92f6-44af-b1c1-cc5fcfcf4669",
   "metadata": {},
   "source": [
    "#### TF-IDF + Logistic Regression with Grid Search (for Hyperparameter Tuning)"
   ]
  },
  {
   "cell_type": "code",
   "execution_count": 105,
   "id": "4f0b139e-f0b4-49ab-b8c1-d7a805331b00",
   "metadata": {},
   "outputs": [
    {
     "data": {
      "image/png": "[encoded data removed]",
      "text/plain": [
       "<Figure size 432x288 with 1 Axes>"
      ]
     },
     "metadata": {
      "needs_background": "light"
     },
     "output_type": "display_data"
    }
   ],
   "source": [
    "plot_roc_curve(lr, X_test_adj, y_test)\n",
    "plt.show()"
   ]
  },
  {
   "cell_type": "code",
   "execution_count": 106,
   "id": "17490657-b99c-4bba-92f8-c04bf2dacd8b",
   "metadata": {},
   "outputs": [
    {
     "name": "stdout",
     "output_type": "stream",
     "text": [
      "precision: 0.8890858284991477 | recall: 0.8890510948905109 | f1: 0.8890144580768632 | support: None\n",
      "accur: 0.8890510948905109\n"
     ]
    }
   ],
   "source": [
    "prec, recall, f1, support = precision_recall_fscore_support(y_test, lr.predict(X_test_adj), average='weighted') # pos_label = 1, average = 'binary', labels=['negative', 'positive']\n",
    "print('precision: {} | recall: {} | f1: {} | support: {}'.format(prec, recall, f1, support))\n",
    "\n",
    "accur = accuracy_score(y_test, lr.predict(X_test_adj))\n",
    "print('accur: {}'.format(accur))"
   ]
  },
  {
   "cell_type": "markdown",
   "id": "70636d4f-e7a8-4486-9bce-2b2048e33362",
   "metadata": {},
   "source": [
    "#### TF-IDF + Random Forest with Grid Search (for Hyperparameter Tuning)"
   ]
  },
  {
   "cell_type": "code",
   "execution_count": 107,
   "id": "4303f21a-0a35-4f4f-a891-38eb138eb136",
   "metadata": {},
   "outputs": [
    {
     "data": {
      "image/png": "[encoded data removed]",
      "text/plain": [
       "<Figure size 432x288 with 1 Axes>"
      ]
     },
     "metadata": {
      "needs_background": "light"
     },
     "output_type": "display_data"
    }
   ],
   "source": [
    "plot_roc_curve(ranForest, X_test_adj, y_test)\n",
    "plt.show()"
   ]
  },
  {
   "cell_type": "code",
   "execution_count": 108,
   "id": "4ce62226-5953-4f94-af5d-58170d74a021",
   "metadata": {},
   "outputs": [
    {
     "name": "stdout",
     "output_type": "stream",
     "text": [
      "precision: 0.9020791076201569 | recall: 0.9017031630170317 | f1: 0.9016132585688968 | support: None\n",
      "accur: 0.9017031630170317\n"
     ]
    }
   ],
   "source": [
    "prec, recall, f1, support = precision_recall_fscore_support(y_test, ranForest.predict(X_test_adj), average='weighted') # pos_label = 1, average = 'binary', labels=['negative', 'positive']\n",
    "print('precision: {} | recall: {} | f1: {} | support: {}'.format(prec, recall, f1, support))\n",
    "\n",
    "accur = accuracy_score(y_test, ranForest.predict(X_test_adj))\n",
    "print('accur: {}'.format(accur))"
   ]
  },
  {
   "cell_type": "markdown",
   "id": "d99ad782-0383-4f18-b549-9e39dd868322",
   "metadata": {},
   "source": [
    "#### TF-IDF + XGBoost w/Scikit-Learn Wrapper interface"
   ]
  },
  {
   "cell_type": "code",
   "execution_count": 109,
   "id": "7dd29211-974c-41ed-8459-0613f808c683",
   "metadata": {},
   "outputs": [
    {
     "data": {
      "image/png": "[encoded data removed]",
      "text/plain": [
       "<Figure size 432x288 with 1 Axes>"
      ]
     },
     "metadata": {
      "needs_background": "light"
     },
     "output_type": "display_data"
    }
   ],
   "source": [
    "plot_roc_curve(xgbClassifier, X_test_adj, y_test)\n",
    "plt.show()"
   ]
  },
  {
   "cell_type": "code",
   "execution_count": 110,
   "id": "d1a00709-bc7d-45f9-b327-e7703e5bd54d",
   "metadata": {},
   "outputs": [
    {
     "name": "stdout",
     "output_type": "stream",
     "text": [
      "precision: 0.9075501068146947 | recall: 0.9075425790754258 | f1: 0.907524817626271 | support: None\n",
      "accur: 0.9075425790754258\n"
     ]
    }
   ],
   "source": [
    "prec, recall, f1, support = precision_recall_fscore_support(y_test, xgbClassifier.predict(X_test_adj), average='weighted') # pos_label = 1, average = 'binary', labels=['negative', 'positive']\n",
    "print('precision: {} | recall: {} | f1: {} | support: {}'.format(prec, recall, f1, support))\n",
    "\n",
    "accur = accuracy_score(y_test, xgbClassifier.predict(X_test_adj))\n",
    "print('accur: {}'.format(accur))"
   ]
  },
  {
   "cell_type": "markdown",
   "id": "3ba2d2d4-7002-41f3-b14c-aafa83ea8a3b",
   "metadata": {},
   "source": [
    "#### Convolutional Neural Network (CNN) - PyTorch"
   ]
  },
  {
   "cell_type": "code",
   "execution_count": 111,
   "id": "14d49667-ce4c-4712-8d49-8b145ce827d7",
   "metadata": {},
   "outputs": [],
   "source": [
    "classifier_results = classifier.predict_multiple(X_test[target_text_factor].values)"
   ]
  },
  {
   "cell_type": "code",
   "execution_count": 112,
   "id": "3a7bac33-36e2-428a-beff-846ab9c4ddbd",
   "metadata": {},
   "outputs": [
    {
     "name": "stdout",
     "output_type": "stream",
     "text": [
      "precision: 0.9610723136947834 | recall: 0.9610705596107056 | f1: 0.9610677904088 | support: None\n",
      "accur: 0.9610705596107056\n"
     ]
    }
   ],
   "source": [
    "prec, recall, f1, support = precision_recall_fscore_support(y_test, classifier_results, average='weighted') # pos_label = 1, average = 'binary', labels=['negative', 'positive']\n",
    "print('precision: {} | recall: {} | f1: {} | support: {}'.format(prec, recall, f1, support))\n",
    "\n",
    "accur = accuracy_score(y_test, classifier_results)\n",
    "print('accur: {}'.format(accur))"
   ]
  },
  {
   "cell_type": "markdown",
   "id": "1444f94b-d11f-4564-840e-782a30df894b",
   "metadata": {},
   "source": [
    "#### Bi-LSTM"
   ]
  },
  {
   "cell_type": "code",
   "execution_count": 113,
   "id": "f021502a-6bbd-4352-b385-a38ac577a406",
   "metadata": {},
   "outputs": [],
   "source": [
    "bilstm_classifier_results = bilstm_classifier.predict_multiple(X_test[target_text_factor].values)"
   ]
  },
  {
   "cell_type": "code",
   "execution_count": 114,
   "id": "fe96909c-5fd0-4544-bf9e-180271413c43",
   "metadata": {},
   "outputs": [
    {
     "name": "stdout",
     "output_type": "stream",
     "text": [
      "precision: 0.9516752332948298 | recall: 0.9513381995133819 | f1: 0.9513032003642425 | support: None\n",
      "accur: 0.9513381995133819\n"
     ]
    }
   ],
   "source": [
    "prec, recall, f1, support = precision_recall_fscore_support(y_test, bilstm_classifier_results, average='weighted') # pos_label = 1, average = 'binary', labels=['negative', 'positive']\n",
    "print('precision: {} | recall: {} | f1: {} | support: {}'.format(prec, recall, f1, support))\n",
    "\n",
    "accur = accuracy_score(y_test, bilstm_classifier_results)\n",
    "print('accur: {}'.format(accur))"
   ]
  },
  {
   "cell_type": "markdown",
   "id": "10eb65a4-c344-423d-8e37-d023874fd942",
   "metadata": {},
   "source": [
    "#### BERT"
   ]
  },
  {
   "cell_type": "markdown",
   "id": "198f5ee3-8a31-4dca-b5d3-bd703bc9f9e5",
   "metadata": {},
   "source": [
    "#### RoBERTa"
   ]
  },
  {
   "cell_type": "markdown",
   "id": "55137396-9181-48bf-b0a2-0623af2cc98b",
   "metadata": {},
   "source": [
    "<hr/>"
   ]
  }
 ],
 "metadata": {
  "kernelspec": {
   "display_name": "Python 3 (ipykernel)",
   "language": "python",
   "name": "python3"
  },
  "language_info": {
   "codemirror_mode": {
    "name": "ipython",
    "version": 3
   },
   "file_extension": ".py",
   "mimetype": "text/x-python",
   "name": "python",
   "nbconvert_exporter": "python",
   "pygments_lexer": "ipython3",
   "version": "3.9.12"
  }
 },
 "nbformat": 4,
 "nbformat_minor": 5
}
